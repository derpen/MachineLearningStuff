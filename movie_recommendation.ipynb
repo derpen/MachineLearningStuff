{
  "nbformat": 4,
  "nbformat_minor": 0,
  "metadata": {
    "colab": {
      "provenance": [],
      "authorship_tag": "ABX9TyNDVPT9xbRmAD6xHaS+hnyk",
      "include_colab_link": true
    },
    "kernelspec": {
      "name": "python3",
      "display_name": "Python 3"
    },
    "language_info": {
      "name": "python"
    }
  },
  "cells": [
    {
      "cell_type": "markdown",
      "metadata": {
        "id": "view-in-github",
        "colab_type": "text"
      },
      "source": [
        "<a href=\"https://colab.research.google.com/github/derpen/MachineLearningStuff/blob/main/movie_recommendation.ipynb\" target=\"_parent\"><img src=\"https://colab.research.google.com/assets/colab-badge.svg\" alt=\"Open In Colab\"/></a>"
      ]
    },
    {
      "cell_type": "code",
      "execution_count": null,
      "metadata": {
        "id": "8Cnzqii2ZYNp"
      },
      "outputs": [],
      "source": [
        "import pandas as pd"
      ]
    },
    {
      "cell_type": "markdown",
      "source": [
        "# Mendownload dataset dari kaggle"
      ],
      "metadata": {
        "id": "6qwtHKossZkY"
      }
    },
    {
      "cell_type": "code",
      "source": [
        "from google.colab import files\n",
        "\n",
        "files.upload()\n",
        "\n",
        "# Upload kaggle token disini"
      ],
      "metadata": {
        "id": "tUiSkQZHZaF3"
      },
      "execution_count": null,
      "outputs": []
    },
    {
      "cell_type": "code",
      "source": [
        "!mkdir ~/.kaggle\n",
        "\n",
        "!cp kaggle.json ~/.kaggle/\n",
        "\n",
        "!chmod 600 ~/.kaggle/kaggle.json"
      ],
      "metadata": {
        "id": "6ZtmKwdOgFZb"
      },
      "execution_count": null,
      "outputs": []
    },
    {
      "cell_type": "code",
      "source": [
        "!kaggle datasets download -d rounakbanik/the-movies-dataset"
      ],
      "metadata": {
        "colab": {
          "base_uri": "https://localhost:8080/"
        },
        "id": "xX4byuLMfAza",
        "outputId": "d17e6ca9-f00d-4f8b-85b0-844c56e83ed2"
      },
      "execution_count": null,
      "outputs": [
        {
          "output_type": "stream",
          "name": "stdout",
          "text": [
            "Downloading the-movies-dataset.zip to /content\n",
            " 93% 212M/228M [00:06<00:00, 33.3MB/s]\n",
            "100% 228M/228M [00:06<00:00, 35.9MB/s]\n"
          ]
        }
      ]
    },
    {
      "cell_type": "code",
      "source": [
        "!mkdir ~/movies\n",
        "\n",
        "!unzip the-movies-dataset.zip -d ~/movies"
      ],
      "metadata": {
        "colab": {
          "base_uri": "https://localhost:8080/"
        },
        "id": "vTyoXEiogMbV",
        "outputId": "00ad21ea-ac56-42c6-f88f-78ccd343fb42"
      },
      "execution_count": null,
      "outputs": [
        {
          "output_type": "stream",
          "name": "stdout",
          "text": [
            "Archive:  the-movies-dataset.zip\n",
            "  inflating: /root/movies/credits.csv  \n",
            "  inflating: /root/movies/keywords.csv  \n",
            "  inflating: /root/movies/links.csv  \n",
            "  inflating: /root/movies/links_small.csv  \n",
            "  inflating: /root/movies/movies_metadata.csv  \n",
            "  inflating: /root/movies/ratings.csv  \n",
            "  inflating: /root/movies/ratings_small.csv  \n"
          ]
        }
      ]
    },
    {
      "cell_type": "markdown",
      "source": [],
      "metadata": {
        "id": "lH2yeDLksTpA"
      }
    },
    {
      "cell_type": "markdown",
      "source": [
        "# Melihat Konten dari dataset, untuk sekarang kita gunakan movies_metadata saja"
      ],
      "metadata": {
        "id": "2MmfYaatsVNH"
      }
    },
    {
      "cell_type": "code",
      "source": [
        "!ls ~/movies"
      ],
      "metadata": {
        "colab": {
          "base_uri": "https://localhost:8080/"
        },
        "id": "J6SJrgllgqu2",
        "outputId": "9311cbff-ba4b-410f-c1dc-0c970c8ac1a1"
      },
      "execution_count": null,
      "outputs": [
        {
          "output_type": "stream",
          "name": "stdout",
          "text": [
            "credits.csv   links.csv        movies_metadata.csv  ratings_small.csv\n",
            "keywords.csv  links_small.csv  ratings.csv\n"
          ]
        }
      ]
    },
    {
      "cell_type": "code",
      "source": [
        "df = pd.read_csv('~/movies/movies_metadata.csv')"
      ],
      "metadata": {
        "id": "2hzkG9_VgvG5",
        "colab": {
          "base_uri": "https://localhost:8080/"
        },
        "outputId": "a4689bf2-0b26-4d02-fe24-9da2fa5b7034"
      },
      "execution_count": null,
      "outputs": [
        {
          "output_type": "stream",
          "name": "stderr",
          "text": [
            "/usr/local/lib/python3.7/dist-packages/IPython/core/interactiveshell.py:3326: DtypeWarning: Columns (10) have mixed types.Specify dtype option on import or set low_memory=False.\n",
            "  exec(code_obj, self.user_global_ns, self.user_ns)\n"
          ]
        }
      ]
    },
    {
      "cell_type": "code",
      "source": [
        "print(df.shape)"
      ],
      "metadata": {
        "colab": {
          "base_uri": "https://localhost:8080/"
        },
        "id": "UZOXDXdIiBTj",
        "outputId": "c274887e-af53-4a10-d355-85ce35efa657"
      },
      "execution_count": null,
      "outputs": [
        {
          "output_type": "stream",
          "name": "stdout",
          "text": [
            "(45466, 24)\n"
          ]
        }
      ]
    },
    {
      "cell_type": "markdown",
      "source": [
        "# 45466 data, mari kita lihat seperti apa head nya"
      ],
      "metadata": {
        "id": "-WcqSeFHsdHT"
      }
    },
    {
      "cell_type": "code",
      "source": [
        "df.head().T"
      ],
      "metadata": {
        "colab": {
          "base_uri": "https://localhost:8080/",
          "height": 881
        },
        "id": "Tfz8JK3Dh7bS",
        "outputId": "52642f3a-1ed5-46b1-e019-e3f45e45d7d1"
      },
      "execution_count": null,
      "outputs": [
        {
          "output_type": "execute_result",
          "data": {
            "text/plain": [
              "                                                                       0  \\\n",
              "adult                                                              False   \n",
              "belongs_to_collection  {'id': 10194, 'name': 'Toy Story Collection', ...   \n",
              "budget                                                          30000000   \n",
              "genres                 [{'id': 16, 'name': 'Animation'}, {'id': 35, '...   \n",
              "homepage                            http://toystory.disney.com/toy-story   \n",
              "id                                                                   862   \n",
              "imdb_id                                                        tt0114709   \n",
              "original_language                                                     en   \n",
              "original_title                                                 Toy Story   \n",
              "overview               Led by Woody, Andy's toys live happily in his ...   \n",
              "popularity                                                     21.946943   \n",
              "poster_path                             /rhIRbceoE9lR4veEXuwCC2wARtG.jpg   \n",
              "production_companies      [{'name': 'Pixar Animation Studios', 'id': 3}]   \n",
              "production_countries   [{'iso_3166_1': 'US', 'name': 'United States o...   \n",
              "release_date                                                  1995-10-30   \n",
              "revenue                                                      373554033.0   \n",
              "runtime                                                             81.0   \n",
              "spoken_languages                [{'iso_639_1': 'en', 'name': 'English'}]   \n",
              "status                                                          Released   \n",
              "tagline                                                              NaN   \n",
              "title                                                          Toy Story   \n",
              "video                                                              False   \n",
              "vote_average                                                         7.7   \n",
              "vote_count                                                        5415.0   \n",
              "\n",
              "                                                                       1  \\\n",
              "adult                                                              False   \n",
              "belongs_to_collection                                                NaN   \n",
              "budget                                                          65000000   \n",
              "genres                 [{'id': 12, 'name': 'Adventure'}, {'id': 14, '...   \n",
              "homepage                                                             NaN   \n",
              "id                                                                  8844   \n",
              "imdb_id                                                        tt0113497   \n",
              "original_language                                                     en   \n",
              "original_title                                                   Jumanji   \n",
              "overview               When siblings Judy and Peter discover an encha...   \n",
              "popularity                                                     17.015539   \n",
              "poster_path                             /vzmL6fP7aPKNKPRTFnZmiUfciyV.jpg   \n",
              "production_companies   [{'name': 'TriStar Pictures', 'id': 559}, {'na...   \n",
              "production_countries   [{'iso_3166_1': 'US', 'name': 'United States o...   \n",
              "release_date                                                  1995-12-15   \n",
              "revenue                                                      262797249.0   \n",
              "runtime                                                            104.0   \n",
              "spoken_languages       [{'iso_639_1': 'en', 'name': 'English'}, {'iso...   \n",
              "status                                                          Released   \n",
              "tagline                        Roll the dice and unleash the excitement!   \n",
              "title                                                            Jumanji   \n",
              "video                                                              False   \n",
              "vote_average                                                         6.9   \n",
              "vote_count                                                        2413.0   \n",
              "\n",
              "                                                                       2  \\\n",
              "adult                                                              False   \n",
              "belongs_to_collection  {'id': 119050, 'name': 'Grumpy Old Men Collect...   \n",
              "budget                                                                 0   \n",
              "genres                 [{'id': 10749, 'name': 'Romance'}, {'id': 35, ...   \n",
              "homepage                                                             NaN   \n",
              "id                                                                 15602   \n",
              "imdb_id                                                        tt0113228   \n",
              "original_language                                                     en   \n",
              "original_title                                          Grumpier Old Men   \n",
              "overview               A family wedding reignites the ancient feud be...   \n",
              "popularity                                                       11.7129   \n",
              "poster_path                             /6ksm1sjKMFLbO7UY2i6G1ju9SML.jpg   \n",
              "production_companies   [{'name': 'Warner Bros.', 'id': 6194}, {'name'...   \n",
              "production_countries   [{'iso_3166_1': 'US', 'name': 'United States o...   \n",
              "release_date                                                  1995-12-22   \n",
              "revenue                                                              0.0   \n",
              "runtime                                                            101.0   \n",
              "spoken_languages                [{'iso_639_1': 'en', 'name': 'English'}]   \n",
              "status                                                          Released   \n",
              "tagline                Still Yelling. Still Fighting. Still Ready for...   \n",
              "title                                                   Grumpier Old Men   \n",
              "video                                                              False   \n",
              "vote_average                                                         6.5   \n",
              "vote_count                                                          92.0   \n",
              "\n",
              "                                                                       3  \\\n",
              "adult                                                              False   \n",
              "belongs_to_collection                                                NaN   \n",
              "budget                                                          16000000   \n",
              "genres                 [{'id': 35, 'name': 'Comedy'}, {'id': 18, 'nam...   \n",
              "homepage                                                             NaN   \n",
              "id                                                                 31357   \n",
              "imdb_id                                                        tt0114885   \n",
              "original_language                                                     en   \n",
              "original_title                                         Waiting to Exhale   \n",
              "overview               Cheated on, mistreated and stepped on, the wom...   \n",
              "popularity                                                      3.859495   \n",
              "poster_path                             /16XOMpEaLWkrcPqSQqhTmeJuqQl.jpg   \n",
              "production_companies   [{'name': 'Twentieth Century Fox Film Corporat...   \n",
              "production_countries   [{'iso_3166_1': 'US', 'name': 'United States o...   \n",
              "release_date                                                  1995-12-22   \n",
              "revenue                                                       81452156.0   \n",
              "runtime                                                            127.0   \n",
              "spoken_languages                [{'iso_639_1': 'en', 'name': 'English'}]   \n",
              "status                                                          Released   \n",
              "tagline                Friends are the people who let you be yourself...   \n",
              "title                                                  Waiting to Exhale   \n",
              "video                                                              False   \n",
              "vote_average                                                         6.1   \n",
              "vote_count                                                          34.0   \n",
              "\n",
              "                                                                       4  \n",
              "adult                                                              False  \n",
              "belongs_to_collection  {'id': 96871, 'name': 'Father of the Bride Col...  \n",
              "budget                                                                 0  \n",
              "genres                                    [{'id': 35, 'name': 'Comedy'}]  \n",
              "homepage                                                             NaN  \n",
              "id                                                                 11862  \n",
              "imdb_id                                                        tt0113041  \n",
              "original_language                                                     en  \n",
              "original_title                               Father of the Bride Part II  \n",
              "overview               Just when George Banks has recovered from his ...  \n",
              "popularity                                                      8.387519  \n",
              "poster_path                             /e64sOI48hQXyru7naBFyssKFxVd.jpg  \n",
              "production_companies   [{'name': 'Sandollar Productions', 'id': 5842}...  \n",
              "production_countries   [{'iso_3166_1': 'US', 'name': 'United States o...  \n",
              "release_date                                                  1995-02-10  \n",
              "revenue                                                       76578911.0  \n",
              "runtime                                                            106.0  \n",
              "spoken_languages                [{'iso_639_1': 'en', 'name': 'English'}]  \n",
              "status                                                          Released  \n",
              "tagline                Just When His World Is Back To Normal... He's ...  \n",
              "title                                        Father of the Bride Part II  \n",
              "video                                                              False  \n",
              "vote_average                                                         5.7  \n",
              "vote_count                                                         173.0  "
            ],
            "text/html": [
              "\n",
              "  <div id=\"df-1ab41dbb-43d1-4806-a167-c70c156c229c\">\n",
              "    <div class=\"colab-df-container\">\n",
              "      <div>\n",
              "<style scoped>\n",
              "    .dataframe tbody tr th:only-of-type {\n",
              "        vertical-align: middle;\n",
              "    }\n",
              "\n",
              "    .dataframe tbody tr th {\n",
              "        vertical-align: top;\n",
              "    }\n",
              "\n",
              "    .dataframe thead th {\n",
              "        text-align: right;\n",
              "    }\n",
              "</style>\n",
              "<table border=\"1\" class=\"dataframe\">\n",
              "  <thead>\n",
              "    <tr style=\"text-align: right;\">\n",
              "      <th></th>\n",
              "      <th>0</th>\n",
              "      <th>1</th>\n",
              "      <th>2</th>\n",
              "      <th>3</th>\n",
              "      <th>4</th>\n",
              "    </tr>\n",
              "  </thead>\n",
              "  <tbody>\n",
              "    <tr>\n",
              "      <th>adult</th>\n",
              "      <td>False</td>\n",
              "      <td>False</td>\n",
              "      <td>False</td>\n",
              "      <td>False</td>\n",
              "      <td>False</td>\n",
              "    </tr>\n",
              "    <tr>\n",
              "      <th>belongs_to_collection</th>\n",
              "      <td>{'id': 10194, 'name': 'Toy Story Collection', ...</td>\n",
              "      <td>NaN</td>\n",
              "      <td>{'id': 119050, 'name': 'Grumpy Old Men Collect...</td>\n",
              "      <td>NaN</td>\n",
              "      <td>{'id': 96871, 'name': 'Father of the Bride Col...</td>\n",
              "    </tr>\n",
              "    <tr>\n",
              "      <th>budget</th>\n",
              "      <td>30000000</td>\n",
              "      <td>65000000</td>\n",
              "      <td>0</td>\n",
              "      <td>16000000</td>\n",
              "      <td>0</td>\n",
              "    </tr>\n",
              "    <tr>\n",
              "      <th>genres</th>\n",
              "      <td>[{'id': 16, 'name': 'Animation'}, {'id': 35, '...</td>\n",
              "      <td>[{'id': 12, 'name': 'Adventure'}, {'id': 14, '...</td>\n",
              "      <td>[{'id': 10749, 'name': 'Romance'}, {'id': 35, ...</td>\n",
              "      <td>[{'id': 35, 'name': 'Comedy'}, {'id': 18, 'nam...</td>\n",
              "      <td>[{'id': 35, 'name': 'Comedy'}]</td>\n",
              "    </tr>\n",
              "    <tr>\n",
              "      <th>homepage</th>\n",
              "      <td>http://toystory.disney.com/toy-story</td>\n",
              "      <td>NaN</td>\n",
              "      <td>NaN</td>\n",
              "      <td>NaN</td>\n",
              "      <td>NaN</td>\n",
              "    </tr>\n",
              "    <tr>\n",
              "      <th>id</th>\n",
              "      <td>862</td>\n",
              "      <td>8844</td>\n",
              "      <td>15602</td>\n",
              "      <td>31357</td>\n",
              "      <td>11862</td>\n",
              "    </tr>\n",
              "    <tr>\n",
              "      <th>imdb_id</th>\n",
              "      <td>tt0114709</td>\n",
              "      <td>tt0113497</td>\n",
              "      <td>tt0113228</td>\n",
              "      <td>tt0114885</td>\n",
              "      <td>tt0113041</td>\n",
              "    </tr>\n",
              "    <tr>\n",
              "      <th>original_language</th>\n",
              "      <td>en</td>\n",
              "      <td>en</td>\n",
              "      <td>en</td>\n",
              "      <td>en</td>\n",
              "      <td>en</td>\n",
              "    </tr>\n",
              "    <tr>\n",
              "      <th>original_title</th>\n",
              "      <td>Toy Story</td>\n",
              "      <td>Jumanji</td>\n",
              "      <td>Grumpier Old Men</td>\n",
              "      <td>Waiting to Exhale</td>\n",
              "      <td>Father of the Bride Part II</td>\n",
              "    </tr>\n",
              "    <tr>\n",
              "      <th>overview</th>\n",
              "      <td>Led by Woody, Andy's toys live happily in his ...</td>\n",
              "      <td>When siblings Judy and Peter discover an encha...</td>\n",
              "      <td>A family wedding reignites the ancient feud be...</td>\n",
              "      <td>Cheated on, mistreated and stepped on, the wom...</td>\n",
              "      <td>Just when George Banks has recovered from his ...</td>\n",
              "    </tr>\n",
              "    <tr>\n",
              "      <th>popularity</th>\n",
              "      <td>21.946943</td>\n",
              "      <td>17.015539</td>\n",
              "      <td>11.7129</td>\n",
              "      <td>3.859495</td>\n",
              "      <td>8.387519</td>\n",
              "    </tr>\n",
              "    <tr>\n",
              "      <th>poster_path</th>\n",
              "      <td>/rhIRbceoE9lR4veEXuwCC2wARtG.jpg</td>\n",
              "      <td>/vzmL6fP7aPKNKPRTFnZmiUfciyV.jpg</td>\n",
              "      <td>/6ksm1sjKMFLbO7UY2i6G1ju9SML.jpg</td>\n",
              "      <td>/16XOMpEaLWkrcPqSQqhTmeJuqQl.jpg</td>\n",
              "      <td>/e64sOI48hQXyru7naBFyssKFxVd.jpg</td>\n",
              "    </tr>\n",
              "    <tr>\n",
              "      <th>production_companies</th>\n",
              "      <td>[{'name': 'Pixar Animation Studios', 'id': 3}]</td>\n",
              "      <td>[{'name': 'TriStar Pictures', 'id': 559}, {'na...</td>\n",
              "      <td>[{'name': 'Warner Bros.', 'id': 6194}, {'name'...</td>\n",
              "      <td>[{'name': 'Twentieth Century Fox Film Corporat...</td>\n",
              "      <td>[{'name': 'Sandollar Productions', 'id': 5842}...</td>\n",
              "    </tr>\n",
              "    <tr>\n",
              "      <th>production_countries</th>\n",
              "      <td>[{'iso_3166_1': 'US', 'name': 'United States o...</td>\n",
              "      <td>[{'iso_3166_1': 'US', 'name': 'United States o...</td>\n",
              "      <td>[{'iso_3166_1': 'US', 'name': 'United States o...</td>\n",
              "      <td>[{'iso_3166_1': 'US', 'name': 'United States o...</td>\n",
              "      <td>[{'iso_3166_1': 'US', 'name': 'United States o...</td>\n",
              "    </tr>\n",
              "    <tr>\n",
              "      <th>release_date</th>\n",
              "      <td>1995-10-30</td>\n",
              "      <td>1995-12-15</td>\n",
              "      <td>1995-12-22</td>\n",
              "      <td>1995-12-22</td>\n",
              "      <td>1995-02-10</td>\n",
              "    </tr>\n",
              "    <tr>\n",
              "      <th>revenue</th>\n",
              "      <td>373554033.0</td>\n",
              "      <td>262797249.0</td>\n",
              "      <td>0.0</td>\n",
              "      <td>81452156.0</td>\n",
              "      <td>76578911.0</td>\n",
              "    </tr>\n",
              "    <tr>\n",
              "      <th>runtime</th>\n",
              "      <td>81.0</td>\n",
              "      <td>104.0</td>\n",
              "      <td>101.0</td>\n",
              "      <td>127.0</td>\n",
              "      <td>106.0</td>\n",
              "    </tr>\n",
              "    <tr>\n",
              "      <th>spoken_languages</th>\n",
              "      <td>[{'iso_639_1': 'en', 'name': 'English'}]</td>\n",
              "      <td>[{'iso_639_1': 'en', 'name': 'English'}, {'iso...</td>\n",
              "      <td>[{'iso_639_1': 'en', 'name': 'English'}]</td>\n",
              "      <td>[{'iso_639_1': 'en', 'name': 'English'}]</td>\n",
              "      <td>[{'iso_639_1': 'en', 'name': 'English'}]</td>\n",
              "    </tr>\n",
              "    <tr>\n",
              "      <th>status</th>\n",
              "      <td>Released</td>\n",
              "      <td>Released</td>\n",
              "      <td>Released</td>\n",
              "      <td>Released</td>\n",
              "      <td>Released</td>\n",
              "    </tr>\n",
              "    <tr>\n",
              "      <th>tagline</th>\n",
              "      <td>NaN</td>\n",
              "      <td>Roll the dice and unleash the excitement!</td>\n",
              "      <td>Still Yelling. Still Fighting. Still Ready for...</td>\n",
              "      <td>Friends are the people who let you be yourself...</td>\n",
              "      <td>Just When His World Is Back To Normal... He's ...</td>\n",
              "    </tr>\n",
              "    <tr>\n",
              "      <th>title</th>\n",
              "      <td>Toy Story</td>\n",
              "      <td>Jumanji</td>\n",
              "      <td>Grumpier Old Men</td>\n",
              "      <td>Waiting to Exhale</td>\n",
              "      <td>Father of the Bride Part II</td>\n",
              "    </tr>\n",
              "    <tr>\n",
              "      <th>video</th>\n",
              "      <td>False</td>\n",
              "      <td>False</td>\n",
              "      <td>False</td>\n",
              "      <td>False</td>\n",
              "      <td>False</td>\n",
              "    </tr>\n",
              "    <tr>\n",
              "      <th>vote_average</th>\n",
              "      <td>7.7</td>\n",
              "      <td>6.9</td>\n",
              "      <td>6.5</td>\n",
              "      <td>6.1</td>\n",
              "      <td>5.7</td>\n",
              "    </tr>\n",
              "    <tr>\n",
              "      <th>vote_count</th>\n",
              "      <td>5415.0</td>\n",
              "      <td>2413.0</td>\n",
              "      <td>92.0</td>\n",
              "      <td>34.0</td>\n",
              "      <td>173.0</td>\n",
              "    </tr>\n",
              "  </tbody>\n",
              "</table>\n",
              "</div>\n",
              "      <button class=\"colab-df-convert\" onclick=\"convertToInteractive('df-1ab41dbb-43d1-4806-a167-c70c156c229c')\"\n",
              "              title=\"Convert this dataframe to an interactive table.\"\n",
              "              style=\"display:none;\">\n",
              "        \n",
              "  <svg xmlns=\"http://www.w3.org/2000/svg\" height=\"24px\"viewBox=\"0 0 24 24\"\n",
              "       width=\"24px\">\n",
              "    <path d=\"M0 0h24v24H0V0z\" fill=\"none\"/>\n",
              "    <path d=\"M18.56 5.44l.94 2.06.94-2.06 2.06-.94-2.06-.94-.94-2.06-.94 2.06-2.06.94zm-11 1L8.5 8.5l.94-2.06 2.06-.94-2.06-.94L8.5 2.5l-.94 2.06-2.06.94zm10 10l.94 2.06.94-2.06 2.06-.94-2.06-.94-.94-2.06-.94 2.06-2.06.94z\"/><path d=\"M17.41 7.96l-1.37-1.37c-.4-.4-.92-.59-1.43-.59-.52 0-1.04.2-1.43.59L10.3 9.45l-7.72 7.72c-.78.78-.78 2.05 0 2.83L4 21.41c.39.39.9.59 1.41.59.51 0 1.02-.2 1.41-.59l7.78-7.78 2.81-2.81c.8-.78.8-2.07 0-2.86zM5.41 20L4 18.59l7.72-7.72 1.47 1.35L5.41 20z\"/>\n",
              "  </svg>\n",
              "      </button>\n",
              "      \n",
              "  <style>\n",
              "    .colab-df-container {\n",
              "      display:flex;\n",
              "      flex-wrap:wrap;\n",
              "      gap: 12px;\n",
              "    }\n",
              "\n",
              "    .colab-df-convert {\n",
              "      background-color: #E8F0FE;\n",
              "      border: none;\n",
              "      border-radius: 50%;\n",
              "      cursor: pointer;\n",
              "      display: none;\n",
              "      fill: #1967D2;\n",
              "      height: 32px;\n",
              "      padding: 0 0 0 0;\n",
              "      width: 32px;\n",
              "    }\n",
              "\n",
              "    .colab-df-convert:hover {\n",
              "      background-color: #E2EBFA;\n",
              "      box-shadow: 0px 1px 2px rgba(60, 64, 67, 0.3), 0px 1px 3px 1px rgba(60, 64, 67, 0.15);\n",
              "      fill: #174EA6;\n",
              "    }\n",
              "\n",
              "    [theme=dark] .colab-df-convert {\n",
              "      background-color: #3B4455;\n",
              "      fill: #D2E3FC;\n",
              "    }\n",
              "\n",
              "    [theme=dark] .colab-df-convert:hover {\n",
              "      background-color: #434B5C;\n",
              "      box-shadow: 0px 1px 3px 1px rgba(0, 0, 0, 0.15);\n",
              "      filter: drop-shadow(0px 1px 2px rgba(0, 0, 0, 0.3));\n",
              "      fill: #FFFFFF;\n",
              "    }\n",
              "  </style>\n",
              "\n",
              "      <script>\n",
              "        const buttonEl =\n",
              "          document.querySelector('#df-1ab41dbb-43d1-4806-a167-c70c156c229c button.colab-df-convert');\n",
              "        buttonEl.style.display =\n",
              "          google.colab.kernel.accessAllowed ? 'block' : 'none';\n",
              "\n",
              "        async function convertToInteractive(key) {\n",
              "          const element = document.querySelector('#df-1ab41dbb-43d1-4806-a167-c70c156c229c');\n",
              "          const dataTable =\n",
              "            await google.colab.kernel.invokeFunction('convertToInteractive',\n",
              "                                                     [key], {});\n",
              "          if (!dataTable) return;\n",
              "\n",
              "          const docLinkHtml = 'Like what you see? Visit the ' +\n",
              "            '<a target=\"_blank\" href=https://colab.research.google.com/notebooks/data_table.ipynb>data table notebook</a>'\n",
              "            + ' to learn more about interactive tables.';\n",
              "          element.innerHTML = '';\n",
              "          dataTable['output_type'] = 'display_data';\n",
              "          await google.colab.output.renderOutput(dataTable, element);\n",
              "          const docLink = document.createElement('div');\n",
              "          docLink.innerHTML = docLinkHtml;\n",
              "          element.appendChild(docLink);\n",
              "        }\n",
              "      </script>\n",
              "    </div>\n",
              "  </div>\n",
              "  "
            ]
          },
          "metadata": {},
          "execution_count": 9
        }
      ]
    },
    {
      "cell_type": "markdown",
      "source": [
        "# Melihat apa saja yang ada di kolom adult. Hasil ternyata aneh, dan tidak ada cara untuk mengembalikan nilai sebenarnya, jadi kita ignore"
      ],
      "metadata": {
        "id": "ExTolXvGsgK5"
      }
    },
    {
      "cell_type": "code",
      "source": [
        "df['adult'].value_counts() # wtf ??"
      ],
      "metadata": {
        "colab": {
          "base_uri": "https://localhost:8080/"
        },
        "id": "eL9jeKq2_3qd",
        "outputId": "b258832a-da8d-4244-8324-be2a085bb8a4"
      },
      "execution_count": null,
      "outputs": [
        {
          "output_type": "execute_result",
          "data": {
            "text/plain": [
              "False                                                                                                                             45454\n",
              "True                                                                                                                                  9\n",
              " - Written by Ørnås                                                                                                                   1\n",
              " Rune Balot goes to a casino connected to the October corporation to try to wrap up her case once and for all.                        1\n",
              " Avalanche Sharks tells the story of a bikini contest that turns into a horrifying affair when it is hit by a shark avalanche.        1\n",
              "Name: adult, dtype: int64"
            ]
          },
          "metadata": {},
          "execution_count": 10
        }
      ]
    },
    {
      "cell_type": "markdown",
      "source": [
        "# Ambil kolom title dan overview, buang duplicate"
      ],
      "metadata": {
        "id": "CCu9rSgxsuIA"
      }
    },
    {
      "cell_type": "code",
      "source": [
        "df2 = df[['title', 'overview']]\n",
        "df2.drop_duplicates(inplace=True)\n",
        "df2"
      ],
      "metadata": {
        "colab": {
          "base_uri": "https://localhost:8080/",
          "height": 510
        },
        "id": "H3DM2USpzT4d",
        "outputId": "6bfc05da-ce13-45b2-b786-b5f06e338995"
      },
      "execution_count": null,
      "outputs": [
        {
          "output_type": "stream",
          "name": "stderr",
          "text": [
            "/usr/local/lib/python3.7/dist-packages/pandas/util/_decorators.py:311: SettingWithCopyWarning: \n",
            "A value is trying to be set on a copy of a slice from a DataFrame\n",
            "\n",
            "See the caveats in the documentation: https://pandas.pydata.org/pandas-docs/stable/user_guide/indexing.html#returning-a-view-versus-a-copy\n",
            "  return func(*args, **kwargs)\n"
          ]
        },
        {
          "output_type": "execute_result",
          "data": {
            "text/plain": [
              "                             title  \\\n",
              "0                        Toy Story   \n",
              "1                          Jumanji   \n",
              "2                 Grumpier Old Men   \n",
              "3                Waiting to Exhale   \n",
              "4      Father of the Bride Part II   \n",
              "...                            ...   \n",
              "45461                       Subdue   \n",
              "45462          Century of Birthing   \n",
              "45463                     Betrayal   \n",
              "45464             Satan Triumphant   \n",
              "45465                     Queerama   \n",
              "\n",
              "                                                overview  \n",
              "0      Led by Woody, Andy's toys live happily in his ...  \n",
              "1      When siblings Judy and Peter discover an encha...  \n",
              "2      A family wedding reignites the ancient feud be...  \n",
              "3      Cheated on, mistreated and stepped on, the wom...  \n",
              "4      Just when George Banks has recovered from his ...  \n",
              "...                                                  ...  \n",
              "45461        Rising and falling between a man and woman.  \n",
              "45462  An artist struggles to finish his work while a...  \n",
              "45463  When one of her hits goes wrong, a professiona...  \n",
              "45464  In a small town live two brothers, one a minis...  \n",
              "45465  50 years after decriminalisation of homosexual...  \n",
              "\n",
              "[45421 rows x 2 columns]"
            ],
            "text/html": [
              "\n",
              "  <div id=\"df-2e8a3ba6-3767-40ed-97a1-bb5cc270d9c5\">\n",
              "    <div class=\"colab-df-container\">\n",
              "      <div>\n",
              "<style scoped>\n",
              "    .dataframe tbody tr th:only-of-type {\n",
              "        vertical-align: middle;\n",
              "    }\n",
              "\n",
              "    .dataframe tbody tr th {\n",
              "        vertical-align: top;\n",
              "    }\n",
              "\n",
              "    .dataframe thead th {\n",
              "        text-align: right;\n",
              "    }\n",
              "</style>\n",
              "<table border=\"1\" class=\"dataframe\">\n",
              "  <thead>\n",
              "    <tr style=\"text-align: right;\">\n",
              "      <th></th>\n",
              "      <th>title</th>\n",
              "      <th>overview</th>\n",
              "    </tr>\n",
              "  </thead>\n",
              "  <tbody>\n",
              "    <tr>\n",
              "      <th>0</th>\n",
              "      <td>Toy Story</td>\n",
              "      <td>Led by Woody, Andy's toys live happily in his ...</td>\n",
              "    </tr>\n",
              "    <tr>\n",
              "      <th>1</th>\n",
              "      <td>Jumanji</td>\n",
              "      <td>When siblings Judy and Peter discover an encha...</td>\n",
              "    </tr>\n",
              "    <tr>\n",
              "      <th>2</th>\n",
              "      <td>Grumpier Old Men</td>\n",
              "      <td>A family wedding reignites the ancient feud be...</td>\n",
              "    </tr>\n",
              "    <tr>\n",
              "      <th>3</th>\n",
              "      <td>Waiting to Exhale</td>\n",
              "      <td>Cheated on, mistreated and stepped on, the wom...</td>\n",
              "    </tr>\n",
              "    <tr>\n",
              "      <th>4</th>\n",
              "      <td>Father of the Bride Part II</td>\n",
              "      <td>Just when George Banks has recovered from his ...</td>\n",
              "    </tr>\n",
              "    <tr>\n",
              "      <th>...</th>\n",
              "      <td>...</td>\n",
              "      <td>...</td>\n",
              "    </tr>\n",
              "    <tr>\n",
              "      <th>45461</th>\n",
              "      <td>Subdue</td>\n",
              "      <td>Rising and falling between a man and woman.</td>\n",
              "    </tr>\n",
              "    <tr>\n",
              "      <th>45462</th>\n",
              "      <td>Century of Birthing</td>\n",
              "      <td>An artist struggles to finish his work while a...</td>\n",
              "    </tr>\n",
              "    <tr>\n",
              "      <th>45463</th>\n",
              "      <td>Betrayal</td>\n",
              "      <td>When one of her hits goes wrong, a professiona...</td>\n",
              "    </tr>\n",
              "    <tr>\n",
              "      <th>45464</th>\n",
              "      <td>Satan Triumphant</td>\n",
              "      <td>In a small town live two brothers, one a minis...</td>\n",
              "    </tr>\n",
              "    <tr>\n",
              "      <th>45465</th>\n",
              "      <td>Queerama</td>\n",
              "      <td>50 years after decriminalisation of homosexual...</td>\n",
              "    </tr>\n",
              "  </tbody>\n",
              "</table>\n",
              "<p>45421 rows × 2 columns</p>\n",
              "</div>\n",
              "      <button class=\"colab-df-convert\" onclick=\"convertToInteractive('df-2e8a3ba6-3767-40ed-97a1-bb5cc270d9c5')\"\n",
              "              title=\"Convert this dataframe to an interactive table.\"\n",
              "              style=\"display:none;\">\n",
              "        \n",
              "  <svg xmlns=\"http://www.w3.org/2000/svg\" height=\"24px\"viewBox=\"0 0 24 24\"\n",
              "       width=\"24px\">\n",
              "    <path d=\"M0 0h24v24H0V0z\" fill=\"none\"/>\n",
              "    <path d=\"M18.56 5.44l.94 2.06.94-2.06 2.06-.94-2.06-.94-.94-2.06-.94 2.06-2.06.94zm-11 1L8.5 8.5l.94-2.06 2.06-.94-2.06-.94L8.5 2.5l-.94 2.06-2.06.94zm10 10l.94 2.06.94-2.06 2.06-.94-2.06-.94-.94-2.06-.94 2.06-2.06.94z\"/><path d=\"M17.41 7.96l-1.37-1.37c-.4-.4-.92-.59-1.43-.59-.52 0-1.04.2-1.43.59L10.3 9.45l-7.72 7.72c-.78.78-.78 2.05 0 2.83L4 21.41c.39.39.9.59 1.41.59.51 0 1.02-.2 1.41-.59l7.78-7.78 2.81-2.81c.8-.78.8-2.07 0-2.86zM5.41 20L4 18.59l7.72-7.72 1.47 1.35L5.41 20z\"/>\n",
              "  </svg>\n",
              "      </button>\n",
              "      \n",
              "  <style>\n",
              "    .colab-df-container {\n",
              "      display:flex;\n",
              "      flex-wrap:wrap;\n",
              "      gap: 12px;\n",
              "    }\n",
              "\n",
              "    .colab-df-convert {\n",
              "      background-color: #E8F0FE;\n",
              "      border: none;\n",
              "      border-radius: 50%;\n",
              "      cursor: pointer;\n",
              "      display: none;\n",
              "      fill: #1967D2;\n",
              "      height: 32px;\n",
              "      padding: 0 0 0 0;\n",
              "      width: 32px;\n",
              "    }\n",
              "\n",
              "    .colab-df-convert:hover {\n",
              "      background-color: #E2EBFA;\n",
              "      box-shadow: 0px 1px 2px rgba(60, 64, 67, 0.3), 0px 1px 3px 1px rgba(60, 64, 67, 0.15);\n",
              "      fill: #174EA6;\n",
              "    }\n",
              "\n",
              "    [theme=dark] .colab-df-convert {\n",
              "      background-color: #3B4455;\n",
              "      fill: #D2E3FC;\n",
              "    }\n",
              "\n",
              "    [theme=dark] .colab-df-convert:hover {\n",
              "      background-color: #434B5C;\n",
              "      box-shadow: 0px 1px 3px 1px rgba(0, 0, 0, 0.15);\n",
              "      filter: drop-shadow(0px 1px 2px rgba(0, 0, 0, 0.3));\n",
              "      fill: #FFFFFF;\n",
              "    }\n",
              "  </style>\n",
              "\n",
              "      <script>\n",
              "        const buttonEl =\n",
              "          document.querySelector('#df-2e8a3ba6-3767-40ed-97a1-bb5cc270d9c5 button.colab-df-convert');\n",
              "        buttonEl.style.display =\n",
              "          google.colab.kernel.accessAllowed ? 'block' : 'none';\n",
              "\n",
              "        async function convertToInteractive(key) {\n",
              "          const element = document.querySelector('#df-2e8a3ba6-3767-40ed-97a1-bb5cc270d9c5');\n",
              "          const dataTable =\n",
              "            await google.colab.kernel.invokeFunction('convertToInteractive',\n",
              "                                                     [key], {});\n",
              "          if (!dataTable) return;\n",
              "\n",
              "          const docLinkHtml = 'Like what you see? Visit the ' +\n",
              "            '<a target=\"_blank\" href=https://colab.research.google.com/notebooks/data_table.ipynb>data table notebook</a>'\n",
              "            + ' to learn more about interactive tables.';\n",
              "          element.innerHTML = '';\n",
              "          dataTable['output_type'] = 'display_data';\n",
              "          await google.colab.output.renderOutput(dataTable, element);\n",
              "          const docLink = document.createElement('div');\n",
              "          docLink.innerHTML = docLinkHtml;\n",
              "          element.appendChild(docLink);\n",
              "        }\n",
              "      </script>\n",
              "    </div>\n",
              "  </div>\n",
              "  "
            ]
          },
          "metadata": {},
          "execution_count": 11
        }
      ]
    },
    {
      "cell_type": "code",
      "source": [
        "# check 4 duplicate\n",
        "\n",
        "df2[df2.duplicated(subset=['title', 'overview'], keep=False)]"
      ],
      "metadata": {
        "colab": {
          "base_uri": "https://localhost:8080/",
          "height": 49
        },
        "id": "1MpT9diXEgMO",
        "outputId": "9534a7ed-ab16-4b65-8f4d-5cb867c1eb1d"
      },
      "execution_count": null,
      "outputs": [
        {
          "output_type": "execute_result",
          "data": {
            "text/plain": [
              "Empty DataFrame\n",
              "Columns: [title, overview]\n",
              "Index: []"
            ],
            "text/html": [
              "\n",
              "  <div id=\"df-1ce2328d-256d-4447-8ffc-3cdb88f0d20b\">\n",
              "    <div class=\"colab-df-container\">\n",
              "      <div>\n",
              "<style scoped>\n",
              "    .dataframe tbody tr th:only-of-type {\n",
              "        vertical-align: middle;\n",
              "    }\n",
              "\n",
              "    .dataframe tbody tr th {\n",
              "        vertical-align: top;\n",
              "    }\n",
              "\n",
              "    .dataframe thead th {\n",
              "        text-align: right;\n",
              "    }\n",
              "</style>\n",
              "<table border=\"1\" class=\"dataframe\">\n",
              "  <thead>\n",
              "    <tr style=\"text-align: right;\">\n",
              "      <th></th>\n",
              "      <th>title</th>\n",
              "      <th>overview</th>\n",
              "    </tr>\n",
              "  </thead>\n",
              "  <tbody>\n",
              "  </tbody>\n",
              "</table>\n",
              "</div>\n",
              "      <button class=\"colab-df-convert\" onclick=\"convertToInteractive('df-1ce2328d-256d-4447-8ffc-3cdb88f0d20b')\"\n",
              "              title=\"Convert this dataframe to an interactive table.\"\n",
              "              style=\"display:none;\">\n",
              "        \n",
              "  <svg xmlns=\"http://www.w3.org/2000/svg\" height=\"24px\"viewBox=\"0 0 24 24\"\n",
              "       width=\"24px\">\n",
              "    <path d=\"M0 0h24v24H0V0z\" fill=\"none\"/>\n",
              "    <path d=\"M18.56 5.44l.94 2.06.94-2.06 2.06-.94-2.06-.94-.94-2.06-.94 2.06-2.06.94zm-11 1L8.5 8.5l.94-2.06 2.06-.94-2.06-.94L8.5 2.5l-.94 2.06-2.06.94zm10 10l.94 2.06.94-2.06 2.06-.94-2.06-.94-.94-2.06-.94 2.06-2.06.94z\"/><path d=\"M17.41 7.96l-1.37-1.37c-.4-.4-.92-.59-1.43-.59-.52 0-1.04.2-1.43.59L10.3 9.45l-7.72 7.72c-.78.78-.78 2.05 0 2.83L4 21.41c.39.39.9.59 1.41.59.51 0 1.02-.2 1.41-.59l7.78-7.78 2.81-2.81c.8-.78.8-2.07 0-2.86zM5.41 20L4 18.59l7.72-7.72 1.47 1.35L5.41 20z\"/>\n",
              "  </svg>\n",
              "      </button>\n",
              "      \n",
              "  <style>\n",
              "    .colab-df-container {\n",
              "      display:flex;\n",
              "      flex-wrap:wrap;\n",
              "      gap: 12px;\n",
              "    }\n",
              "\n",
              "    .colab-df-convert {\n",
              "      background-color: #E8F0FE;\n",
              "      border: none;\n",
              "      border-radius: 50%;\n",
              "      cursor: pointer;\n",
              "      display: none;\n",
              "      fill: #1967D2;\n",
              "      height: 32px;\n",
              "      padding: 0 0 0 0;\n",
              "      width: 32px;\n",
              "    }\n",
              "\n",
              "    .colab-df-convert:hover {\n",
              "      background-color: #E2EBFA;\n",
              "      box-shadow: 0px 1px 2px rgba(60, 64, 67, 0.3), 0px 1px 3px 1px rgba(60, 64, 67, 0.15);\n",
              "      fill: #174EA6;\n",
              "    }\n",
              "\n",
              "    [theme=dark] .colab-df-convert {\n",
              "      background-color: #3B4455;\n",
              "      fill: #D2E3FC;\n",
              "    }\n",
              "\n",
              "    [theme=dark] .colab-df-convert:hover {\n",
              "      background-color: #434B5C;\n",
              "      box-shadow: 0px 1px 3px 1px rgba(0, 0, 0, 0.15);\n",
              "      filter: drop-shadow(0px 1px 2px rgba(0, 0, 0, 0.3));\n",
              "      fill: #FFFFFF;\n",
              "    }\n",
              "  </style>\n",
              "\n",
              "      <script>\n",
              "        const buttonEl =\n",
              "          document.querySelector('#df-1ce2328d-256d-4447-8ffc-3cdb88f0d20b button.colab-df-convert');\n",
              "        buttonEl.style.display =\n",
              "          google.colab.kernel.accessAllowed ? 'block' : 'none';\n",
              "\n",
              "        async function convertToInteractive(key) {\n",
              "          const element = document.querySelector('#df-1ce2328d-256d-4447-8ffc-3cdb88f0d20b');\n",
              "          const dataTable =\n",
              "            await google.colab.kernel.invokeFunction('convertToInteractive',\n",
              "                                                     [key], {});\n",
              "          if (!dataTable) return;\n",
              "\n",
              "          const docLinkHtml = 'Like what you see? Visit the ' +\n",
              "            '<a target=\"_blank\" href=https://colab.research.google.com/notebooks/data_table.ipynb>data table notebook</a>'\n",
              "            + ' to learn more about interactive tables.';\n",
              "          element.innerHTML = '';\n",
              "          dataTable['output_type'] = 'display_data';\n",
              "          await google.colab.output.renderOutput(dataTable, element);\n",
              "          const docLink = document.createElement('div');\n",
              "          docLink.innerHTML = docLinkHtml;\n",
              "          element.appendChild(docLink);\n",
              "        }\n",
              "      </script>\n",
              "    </div>\n",
              "  </div>\n",
              "  "
            ]
          },
          "metadata": {},
          "execution_count": 12
        }
      ]
    },
    {
      "cell_type": "code",
      "source": [
        "# ambil 20k data pertama, karena 40k data terlalu banyak untuk colab xd\n",
        "\n",
        "df2 = df2[:20000]"
      ],
      "metadata": {
        "id": "j_UaW-1r8zoE"
      },
      "execution_count": null,
      "outputs": []
    },
    {
      "cell_type": "code",
      "source": [
        "df2.isna().sum()"
      ],
      "metadata": {
        "colab": {
          "base_uri": "https://localhost:8080/"
        },
        "id": "FDHwOst7zT0U",
        "outputId": "d96d267a-419b-43b5-fa71-10882f0126d6"
      },
      "execution_count": null,
      "outputs": [
        {
          "output_type": "execute_result",
          "data": {
            "text/plain": [
              "title         2\n",
              "overview    135\n",
              "dtype: int64"
            ]
          },
          "metadata": {},
          "execution_count": 14
        }
      ]
    },
    {
      "cell_type": "code",
      "source": [
        "df2.dropna(inplace=True)"
      ],
      "metadata": {
        "colab": {
          "base_uri": "https://localhost:8080/"
        },
        "id": "l2l4BYgg6nw-",
        "outputId": "dd0e4145-89ce-4bab-a0fb-8f0e6633cdad"
      },
      "execution_count": null,
      "outputs": [
        {
          "output_type": "stream",
          "name": "stderr",
          "text": [
            "/usr/local/lib/python3.7/dist-packages/pandas/util/_decorators.py:311: SettingWithCopyWarning: \n",
            "A value is trying to be set on a copy of a slice from a DataFrame\n",
            "\n",
            "See the caveats in the documentation: https://pandas.pydata.org/pandas-docs/stable/user_guide/indexing.html#returning-a-view-versus-a-copy\n",
            "  return func(*args, **kwargs)\n"
          ]
        }
      ]
    },
    {
      "cell_type": "code",
      "source": [
        "df2.isna().sum()"
      ],
      "metadata": {
        "colab": {
          "base_uri": "https://localhost:8080/"
        },
        "id": "UuHGJd_F6sSa",
        "outputId": "2110ad26-e297-4b4d-de55-dddf68a42b63"
      },
      "execution_count": null,
      "outputs": [
        {
          "output_type": "execute_result",
          "data": {
            "text/plain": [
              "title       0\n",
              "overview    0\n",
              "dtype: int64"
            ]
          },
          "metadata": {},
          "execution_count": 16
        }
      ]
    },
    {
      "cell_type": "markdown",
      "source": [
        "# Data akhir setelah dibuang nilai yang kosong yaitu 19863"
      ],
      "metadata": {
        "id": "jiLe8ZVas3T8"
      }
    },
    {
      "cell_type": "code",
      "source": [
        "df2.shape"
      ],
      "metadata": {
        "colab": {
          "base_uri": "https://localhost:8080/"
        },
        "id": "Bi4Y4aS67Hkr",
        "outputId": "fa562bc2-9573-45ed-f2ff-5754909f2f12"
      },
      "execution_count": null,
      "outputs": [
        {
          "output_type": "execute_result",
          "data": {
            "text/plain": [
              "(19863, 2)"
            ]
          },
          "metadata": {},
          "execution_count": 17
        }
      ]
    },
    {
      "cell_type": "code",
      "source": [
        "df2.info()"
      ],
      "metadata": {
        "colab": {
          "base_uri": "https://localhost:8080/"
        },
        "id": "JCQZxS7V7oti",
        "outputId": "c79a5dd4-0a02-40af-d7b9-bc26b7c1aebf"
      },
      "execution_count": null,
      "outputs": [
        {
          "output_type": "stream",
          "name": "stdout",
          "text": [
            "<class 'pandas.core.frame.DataFrame'>\n",
            "Int64Index: 19863 entries, 0 to 20010\n",
            "Data columns (total 2 columns):\n",
            " #   Column    Non-Null Count  Dtype \n",
            "---  ------    --------------  ----- \n",
            " 0   title     19863 non-null  object\n",
            " 1   overview  19863 non-null  object\n",
            "dtypes: object(2)\n",
            "memory usage: 465.5+ KB\n"
          ]
        }
      ]
    },
    {
      "cell_type": "markdown",
      "source": [
        "# Rekomendation sistem dibuat\n",
        "\n",
        "## Melakukan vektorisasi"
      ],
      "metadata": {
        "id": "i2ShCbFJs95W"
      }
    },
    {
      "cell_type": "code",
      "source": [
        "from sklearn.feature_extraction.text import TfidfVectorizer\n",
        " \n",
        "tf = TfidfVectorizer()\n",
        " \n",
        "tf.fit(df2['overview']) \n",
        "\n",
        "tfidf_matrix = tf.fit_transform(df2['overview'])"
      ],
      "metadata": {
        "id": "Afu8vTB37LBv"
      },
      "execution_count": null,
      "outputs": []
    },
    {
      "cell_type": "code",
      "source": [
        "tfidf_matrix.shape"
      ],
      "metadata": {
        "colab": {
          "base_uri": "https://localhost:8080/"
        },
        "id": "VYE8UO6G8_R6",
        "outputId": "88c061ce-7f9d-4745-e7e3-5358a0843a60"
      },
      "execution_count": null,
      "outputs": [
        {
          "output_type": "execute_result",
          "data": {
            "text/plain": [
              "(19863, 47808)"
            ]
          },
          "metadata": {},
          "execution_count": 20
        }
      ]
    },
    {
      "cell_type": "markdown",
      "source": [
        "# Melakukan proses cosine similarity pada data"
      ],
      "metadata": {
        "id": "sV-VzHYAtA_5"
      }
    },
    {
      "cell_type": "code",
      "source": [
        "from sklearn.metrics.pairwise import cosine_similarity\n",
        "\n",
        "cosine_sim = cosine_similarity(tfidf_matrix) \n",
        "cosine_sim"
      ],
      "metadata": {
        "colab": {
          "base_uri": "https://localhost:8080/"
        },
        "id": "apJTRlP_74oz",
        "outputId": "5aa8c418-329d-4fc3-a42c-79a9759df5c0"
      },
      "execution_count": null,
      "outputs": [
        {
          "output_type": "execute_result",
          "data": {
            "text/plain": [
              "array([[1.        , 0.03150336, 0.01307744, ..., 0.01630904, 0.02814643,\n",
              "        0.01516451],\n",
              "       [0.03150336, 1.        , 0.05857066, ..., 0.0200344 , 0.0364727 ,\n",
              "        0.02765137],\n",
              "       [0.01307744, 0.05857066, 1.        , ..., 0.02699266, 0.03436193,\n",
              "        0.02420975],\n",
              "       ...,\n",
              "       [0.01630904, 0.0200344 , 0.02699266, ..., 1.        , 0.04031468,\n",
              "        0.02483334],\n",
              "       [0.02814643, 0.0364727 , 0.03436193, ..., 0.04031468, 1.        ,\n",
              "        0.04073811],\n",
              "       [0.01516451, 0.02765137, 0.02420975, ..., 0.02483334, 0.04073811,\n",
              "        1.        ]])"
            ]
          },
          "metadata": {},
          "execution_count": 21
        }
      ]
    },
    {
      "cell_type": "code",
      "source": [
        "# Melihat relationship antara data\n",
        "\n",
        "cosine_sim_df = pd.DataFrame(cosine_sim, index=df2['title'], columns=df2['title'])\n",
        "print('Shape:', cosine_sim_df.shape)\n",
        " \n",
        "cosine_sim_df.sample(5, axis=1).sample(10, axis=0)"
      ],
      "metadata": {
        "colab": {
          "base_uri": "https://localhost:8080/",
          "height": 412
        },
        "id": "Ybh-Lqbv9GTg",
        "outputId": "ee0ce320-c039-41d8-b44d-0aeb47e9bb89"
      },
      "execution_count": null,
      "outputs": [
        {
          "output_type": "stream",
          "name": "stdout",
          "text": [
            "Shape: (19863, 19863)\n"
          ]
        },
        {
          "output_type": "execute_result",
          "data": {
            "text/plain": [
              "title                                               Manny & Lo  Hotel Reserve  \\\n",
              "title                                                                           \n",
              "The Devil Wears Prada                                 0.027843       0.017242   \n",
              "A Nightmare on Elm Street 5: The Dream Child          0.046800       0.040912   \n",
              "Rugrats in Paris: The Movie                           0.020918       0.061601   \n",
              "Buddy                                                 0.016462       0.023603   \n",
              "Homer and Eddie                                       0.077614       0.000000   \n",
              "Seven Dollars on the Red                              0.017317       0.020837   \n",
              "The Extraordinary Adventures of Mr. West in the...    0.031021       0.038112   \n",
              "The Rocker                                            0.014072       0.046465   \n",
              "Charlie Wilson's War                                  0.014271       0.056754   \n",
              "The Birds                                             0.019491       0.025490   \n",
              "\n",
              "title                                                 Stella   Exotica  \\\n",
              "title                                                                    \n",
              "The Devil Wears Prada                               0.024042  0.052503   \n",
              "A Nightmare on Elm Street 5: The Dream Child        0.036988  0.069977   \n",
              "Rugrats in Paris: The Movie                         0.025355  0.023272   \n",
              "Buddy                                               0.016718  0.045386   \n",
              "Homer and Eddie                                     0.015030  0.007371   \n",
              "Seven Dollars on the Red                            0.023355  0.032258   \n",
              "The Extraordinary Adventures of Mr. West in the...  0.029839  0.034995   \n",
              "The Rocker                                          0.010669  0.035050   \n",
              "Charlie Wilson's War                                0.037580  0.023974   \n",
              "The Birds                                           0.011938  0.058641   \n",
              "\n",
              "title                                               The Bad Sleep Well  \n",
              "title                                                                   \n",
              "The Devil Wears Prada                                         0.020342  \n",
              "A Nightmare on Elm Street 5: The Dream Child                  0.022863  \n",
              "Rugrats in Paris: The Movie                                   0.013535  \n",
              "Buddy                                                         0.021110  \n",
              "Homer and Eddie                                               0.032057  \n",
              "Seven Dollars on the Red                                      0.043305  \n",
              "The Extraordinary Adventures of Mr. West in the...            0.058067  \n",
              "The Rocker                                                    0.016924  \n",
              "Charlie Wilson's War                                          0.021826  \n",
              "The Birds                                                     0.015599  "
            ],
            "text/html": [
              "\n",
              "  <div id=\"df-c11049e4-f12d-487d-a426-61dfe762b698\">\n",
              "    <div class=\"colab-df-container\">\n",
              "      <div>\n",
              "<style scoped>\n",
              "    .dataframe tbody tr th:only-of-type {\n",
              "        vertical-align: middle;\n",
              "    }\n",
              "\n",
              "    .dataframe tbody tr th {\n",
              "        vertical-align: top;\n",
              "    }\n",
              "\n",
              "    .dataframe thead th {\n",
              "        text-align: right;\n",
              "    }\n",
              "</style>\n",
              "<table border=\"1\" class=\"dataframe\">\n",
              "  <thead>\n",
              "    <tr style=\"text-align: right;\">\n",
              "      <th>title</th>\n",
              "      <th>Manny &amp; Lo</th>\n",
              "      <th>Hotel Reserve</th>\n",
              "      <th>Stella</th>\n",
              "      <th>Exotica</th>\n",
              "      <th>The Bad Sleep Well</th>\n",
              "    </tr>\n",
              "    <tr>\n",
              "      <th>title</th>\n",
              "      <th></th>\n",
              "      <th></th>\n",
              "      <th></th>\n",
              "      <th></th>\n",
              "      <th></th>\n",
              "    </tr>\n",
              "  </thead>\n",
              "  <tbody>\n",
              "    <tr>\n",
              "      <th>The Devil Wears Prada</th>\n",
              "      <td>0.027843</td>\n",
              "      <td>0.017242</td>\n",
              "      <td>0.024042</td>\n",
              "      <td>0.052503</td>\n",
              "      <td>0.020342</td>\n",
              "    </tr>\n",
              "    <tr>\n",
              "      <th>A Nightmare on Elm Street 5: The Dream Child</th>\n",
              "      <td>0.046800</td>\n",
              "      <td>0.040912</td>\n",
              "      <td>0.036988</td>\n",
              "      <td>0.069977</td>\n",
              "      <td>0.022863</td>\n",
              "    </tr>\n",
              "    <tr>\n",
              "      <th>Rugrats in Paris: The Movie</th>\n",
              "      <td>0.020918</td>\n",
              "      <td>0.061601</td>\n",
              "      <td>0.025355</td>\n",
              "      <td>0.023272</td>\n",
              "      <td>0.013535</td>\n",
              "    </tr>\n",
              "    <tr>\n",
              "      <th>Buddy</th>\n",
              "      <td>0.016462</td>\n",
              "      <td>0.023603</td>\n",
              "      <td>0.016718</td>\n",
              "      <td>0.045386</td>\n",
              "      <td>0.021110</td>\n",
              "    </tr>\n",
              "    <tr>\n",
              "      <th>Homer and Eddie</th>\n",
              "      <td>0.077614</td>\n",
              "      <td>0.000000</td>\n",
              "      <td>0.015030</td>\n",
              "      <td>0.007371</td>\n",
              "      <td>0.032057</td>\n",
              "    </tr>\n",
              "    <tr>\n",
              "      <th>Seven Dollars on the Red</th>\n",
              "      <td>0.017317</td>\n",
              "      <td>0.020837</td>\n",
              "      <td>0.023355</td>\n",
              "      <td>0.032258</td>\n",
              "      <td>0.043305</td>\n",
              "    </tr>\n",
              "    <tr>\n",
              "      <th>The Extraordinary Adventures of Mr. West in the Land of the Bolsheviks</th>\n",
              "      <td>0.031021</td>\n",
              "      <td>0.038112</td>\n",
              "      <td>0.029839</td>\n",
              "      <td>0.034995</td>\n",
              "      <td>0.058067</td>\n",
              "    </tr>\n",
              "    <tr>\n",
              "      <th>The Rocker</th>\n",
              "      <td>0.014072</td>\n",
              "      <td>0.046465</td>\n",
              "      <td>0.010669</td>\n",
              "      <td>0.035050</td>\n",
              "      <td>0.016924</td>\n",
              "    </tr>\n",
              "    <tr>\n",
              "      <th>Charlie Wilson's War</th>\n",
              "      <td>0.014271</td>\n",
              "      <td>0.056754</td>\n",
              "      <td>0.037580</td>\n",
              "      <td>0.023974</td>\n",
              "      <td>0.021826</td>\n",
              "    </tr>\n",
              "    <tr>\n",
              "      <th>The Birds</th>\n",
              "      <td>0.019491</td>\n",
              "      <td>0.025490</td>\n",
              "      <td>0.011938</td>\n",
              "      <td>0.058641</td>\n",
              "      <td>0.015599</td>\n",
              "    </tr>\n",
              "  </tbody>\n",
              "</table>\n",
              "</div>\n",
              "      <button class=\"colab-df-convert\" onclick=\"convertToInteractive('df-c11049e4-f12d-487d-a426-61dfe762b698')\"\n",
              "              title=\"Convert this dataframe to an interactive table.\"\n",
              "              style=\"display:none;\">\n",
              "        \n",
              "  <svg xmlns=\"http://www.w3.org/2000/svg\" height=\"24px\"viewBox=\"0 0 24 24\"\n",
              "       width=\"24px\">\n",
              "    <path d=\"M0 0h24v24H0V0z\" fill=\"none\"/>\n",
              "    <path d=\"M18.56 5.44l.94 2.06.94-2.06 2.06-.94-2.06-.94-.94-2.06-.94 2.06-2.06.94zm-11 1L8.5 8.5l.94-2.06 2.06-.94-2.06-.94L8.5 2.5l-.94 2.06-2.06.94zm10 10l.94 2.06.94-2.06 2.06-.94-2.06-.94-.94-2.06-.94 2.06-2.06.94z\"/><path d=\"M17.41 7.96l-1.37-1.37c-.4-.4-.92-.59-1.43-.59-.52 0-1.04.2-1.43.59L10.3 9.45l-7.72 7.72c-.78.78-.78 2.05 0 2.83L4 21.41c.39.39.9.59 1.41.59.51 0 1.02-.2 1.41-.59l7.78-7.78 2.81-2.81c.8-.78.8-2.07 0-2.86zM5.41 20L4 18.59l7.72-7.72 1.47 1.35L5.41 20z\"/>\n",
              "  </svg>\n",
              "      </button>\n",
              "      \n",
              "  <style>\n",
              "    .colab-df-container {\n",
              "      display:flex;\n",
              "      flex-wrap:wrap;\n",
              "      gap: 12px;\n",
              "    }\n",
              "\n",
              "    .colab-df-convert {\n",
              "      background-color: #E8F0FE;\n",
              "      border: none;\n",
              "      border-radius: 50%;\n",
              "      cursor: pointer;\n",
              "      display: none;\n",
              "      fill: #1967D2;\n",
              "      height: 32px;\n",
              "      padding: 0 0 0 0;\n",
              "      width: 32px;\n",
              "    }\n",
              "\n",
              "    .colab-df-convert:hover {\n",
              "      background-color: #E2EBFA;\n",
              "      box-shadow: 0px 1px 2px rgba(60, 64, 67, 0.3), 0px 1px 3px 1px rgba(60, 64, 67, 0.15);\n",
              "      fill: #174EA6;\n",
              "    }\n",
              "\n",
              "    [theme=dark] .colab-df-convert {\n",
              "      background-color: #3B4455;\n",
              "      fill: #D2E3FC;\n",
              "    }\n",
              "\n",
              "    [theme=dark] .colab-df-convert:hover {\n",
              "      background-color: #434B5C;\n",
              "      box-shadow: 0px 1px 3px 1px rgba(0, 0, 0, 0.15);\n",
              "      filter: drop-shadow(0px 1px 2px rgba(0, 0, 0, 0.3));\n",
              "      fill: #FFFFFF;\n",
              "    }\n",
              "  </style>\n",
              "\n",
              "      <script>\n",
              "        const buttonEl =\n",
              "          document.querySelector('#df-c11049e4-f12d-487d-a426-61dfe762b698 button.colab-df-convert');\n",
              "        buttonEl.style.display =\n",
              "          google.colab.kernel.accessAllowed ? 'block' : 'none';\n",
              "\n",
              "        async function convertToInteractive(key) {\n",
              "          const element = document.querySelector('#df-c11049e4-f12d-487d-a426-61dfe762b698');\n",
              "          const dataTable =\n",
              "            await google.colab.kernel.invokeFunction('convertToInteractive',\n",
              "                                                     [key], {});\n",
              "          if (!dataTable) return;\n",
              "\n",
              "          const docLinkHtml = 'Like what you see? Visit the ' +\n",
              "            '<a target=\"_blank\" href=https://colab.research.google.com/notebooks/data_table.ipynb>data table notebook</a>'\n",
              "            + ' to learn more about interactive tables.';\n",
              "          element.innerHTML = '';\n",
              "          dataTable['output_type'] = 'display_data';\n",
              "          await google.colab.output.renderOutput(dataTable, element);\n",
              "          const docLink = document.createElement('div');\n",
              "          docLink.innerHTML = docLinkHtml;\n",
              "          element.appendChild(docLink);\n",
              "        }\n",
              "      </script>\n",
              "    </div>\n",
              "  </div>\n",
              "  "
            ]
          },
          "metadata": {},
          "execution_count": 22
        }
      ]
    },
    {
      "cell_type": "markdown",
      "source": [
        "# Membuat fungsi untuk mendapatkan 15 rekomendasi film pertama"
      ],
      "metadata": {
        "id": "ND8_OkQptHYi"
      }
    },
    {
      "cell_type": "code",
      "source": [
        "def movie_recommendations(title, similarity_data=cosine_sim_df, items=df2, k=15):\n",
        "    index = similarity_data.loc[:,title].to_numpy().argpartition(\n",
        "        range(-1, -k, -1))\n",
        "    \n",
        "    closest = similarity_data.columns[index[-1:-(k+2):-1]]\n",
        "    \n",
        "    closest = closest.drop(title, errors='ignore')\n",
        " \n",
        "    return pd.DataFrame(closest).merge(items).head(k)"
      ],
      "metadata": {
        "id": "40vKdWQK9aBt"
      },
      "execution_count": null,
      "outputs": []
    },
    {
      "cell_type": "code",
      "source": [
        "# lets try it\n",
        "\n",
        "movie_recommendations('Toy Story')"
      ],
      "metadata": {
        "colab": {
          "base_uri": "https://localhost:8080/",
          "height": 520
        },
        "id": "C0z2AaXG9y8n",
        "outputId": "12c36e4b-5bb4-4865-f616-756168b457a0"
      },
      "execution_count": null,
      "outputs": [
        {
          "output_type": "execute_result",
          "data": {
            "text/plain": [
              "                     title                                           overview\n",
              "0              Toy Story 3  Woody, Buzz, and the rest of Andy's toys haven...\n",
              "1              Toy Story 2  Andy heads off to Cowboy Camp, leaving his toy...\n",
              "2   The 40 Year Old Virgin  Andy Stitzer has a pleasant life with a nice a...\n",
              "3                The Champ  The more you love, the harder you fight.The wo...\n",
              "4                The Champ  Dink Purcell loves his alcoholic father, ex-he...\n",
              "5    Rebel Without a Cause  After moving to a new town, troublemaking teen...\n",
              "6   For Your Consideration  Three actors learn that their respective perfo...\n",
              "7                Condorman  Comic artist and writer Woody performs a simpl...\n",
              "8          Man on the Moon  A film about the life and career of the eccent...\n",
              "9           Africa Screams  When bookseller Buzz cons Diana into thinking ...\n",
              "10            Factory Girl  In the mid-1960s, wealthy debutant Edie Sedgwi...\n",
              "11               Group Sex  Herman has a weakness for strip clubs. Donny h...\n",
              "12            Dragon Fight  Jimmy and Tiger are members of the Chinese nat...\n",
              "13     The Gang's All Here  Playboy Andy Mason, on leave from the army, ro...\n",
              "14               Losin' It  Set in 1965, four Los Angeles school friends -..."
            ],
            "text/html": [
              "\n",
              "  <div id=\"df-f038d9b8-1053-4669-a1e0-d9eceba95a47\">\n",
              "    <div class=\"colab-df-container\">\n",
              "      <div>\n",
              "<style scoped>\n",
              "    .dataframe tbody tr th:only-of-type {\n",
              "        vertical-align: middle;\n",
              "    }\n",
              "\n",
              "    .dataframe tbody tr th {\n",
              "        vertical-align: top;\n",
              "    }\n",
              "\n",
              "    .dataframe thead th {\n",
              "        text-align: right;\n",
              "    }\n",
              "</style>\n",
              "<table border=\"1\" class=\"dataframe\">\n",
              "  <thead>\n",
              "    <tr style=\"text-align: right;\">\n",
              "      <th></th>\n",
              "      <th>title</th>\n",
              "      <th>overview</th>\n",
              "    </tr>\n",
              "  </thead>\n",
              "  <tbody>\n",
              "    <tr>\n",
              "      <th>0</th>\n",
              "      <td>Toy Story 3</td>\n",
              "      <td>Woody, Buzz, and the rest of Andy's toys haven...</td>\n",
              "    </tr>\n",
              "    <tr>\n",
              "      <th>1</th>\n",
              "      <td>Toy Story 2</td>\n",
              "      <td>Andy heads off to Cowboy Camp, leaving his toy...</td>\n",
              "    </tr>\n",
              "    <tr>\n",
              "      <th>2</th>\n",
              "      <td>The 40 Year Old Virgin</td>\n",
              "      <td>Andy Stitzer has a pleasant life with a nice a...</td>\n",
              "    </tr>\n",
              "    <tr>\n",
              "      <th>3</th>\n",
              "      <td>The Champ</td>\n",
              "      <td>The more you love, the harder you fight.The wo...</td>\n",
              "    </tr>\n",
              "    <tr>\n",
              "      <th>4</th>\n",
              "      <td>The Champ</td>\n",
              "      <td>Dink Purcell loves his alcoholic father, ex-he...</td>\n",
              "    </tr>\n",
              "    <tr>\n",
              "      <th>5</th>\n",
              "      <td>Rebel Without a Cause</td>\n",
              "      <td>After moving to a new town, troublemaking teen...</td>\n",
              "    </tr>\n",
              "    <tr>\n",
              "      <th>6</th>\n",
              "      <td>For Your Consideration</td>\n",
              "      <td>Three actors learn that their respective perfo...</td>\n",
              "    </tr>\n",
              "    <tr>\n",
              "      <th>7</th>\n",
              "      <td>Condorman</td>\n",
              "      <td>Comic artist and writer Woody performs a simpl...</td>\n",
              "    </tr>\n",
              "    <tr>\n",
              "      <th>8</th>\n",
              "      <td>Man on the Moon</td>\n",
              "      <td>A film about the life and career of the eccent...</td>\n",
              "    </tr>\n",
              "    <tr>\n",
              "      <th>9</th>\n",
              "      <td>Africa Screams</td>\n",
              "      <td>When bookseller Buzz cons Diana into thinking ...</td>\n",
              "    </tr>\n",
              "    <tr>\n",
              "      <th>10</th>\n",
              "      <td>Factory Girl</td>\n",
              "      <td>In the mid-1960s, wealthy debutant Edie Sedgwi...</td>\n",
              "    </tr>\n",
              "    <tr>\n",
              "      <th>11</th>\n",
              "      <td>Group Sex</td>\n",
              "      <td>Herman has a weakness for strip clubs. Donny h...</td>\n",
              "    </tr>\n",
              "    <tr>\n",
              "      <th>12</th>\n",
              "      <td>Dragon Fight</td>\n",
              "      <td>Jimmy and Tiger are members of the Chinese nat...</td>\n",
              "    </tr>\n",
              "    <tr>\n",
              "      <th>13</th>\n",
              "      <td>The Gang's All Here</td>\n",
              "      <td>Playboy Andy Mason, on leave from the army, ro...</td>\n",
              "    </tr>\n",
              "    <tr>\n",
              "      <th>14</th>\n",
              "      <td>Losin' It</td>\n",
              "      <td>Set in 1965, four Los Angeles school friends -...</td>\n",
              "    </tr>\n",
              "  </tbody>\n",
              "</table>\n",
              "</div>\n",
              "      <button class=\"colab-df-convert\" onclick=\"convertToInteractive('df-f038d9b8-1053-4669-a1e0-d9eceba95a47')\"\n",
              "              title=\"Convert this dataframe to an interactive table.\"\n",
              "              style=\"display:none;\">\n",
              "        \n",
              "  <svg xmlns=\"http://www.w3.org/2000/svg\" height=\"24px\"viewBox=\"0 0 24 24\"\n",
              "       width=\"24px\">\n",
              "    <path d=\"M0 0h24v24H0V0z\" fill=\"none\"/>\n",
              "    <path d=\"M18.56 5.44l.94 2.06.94-2.06 2.06-.94-2.06-.94-.94-2.06-.94 2.06-2.06.94zm-11 1L8.5 8.5l.94-2.06 2.06-.94-2.06-.94L8.5 2.5l-.94 2.06-2.06.94zm10 10l.94 2.06.94-2.06 2.06-.94-2.06-.94-.94-2.06-.94 2.06-2.06.94z\"/><path d=\"M17.41 7.96l-1.37-1.37c-.4-.4-.92-.59-1.43-.59-.52 0-1.04.2-1.43.59L10.3 9.45l-7.72 7.72c-.78.78-.78 2.05 0 2.83L4 21.41c.39.39.9.59 1.41.59.51 0 1.02-.2 1.41-.59l7.78-7.78 2.81-2.81c.8-.78.8-2.07 0-2.86zM5.41 20L4 18.59l7.72-7.72 1.47 1.35L5.41 20z\"/>\n",
              "  </svg>\n",
              "      </button>\n",
              "      \n",
              "  <style>\n",
              "    .colab-df-container {\n",
              "      display:flex;\n",
              "      flex-wrap:wrap;\n",
              "      gap: 12px;\n",
              "    }\n",
              "\n",
              "    .colab-df-convert {\n",
              "      background-color: #E8F0FE;\n",
              "      border: none;\n",
              "      border-radius: 50%;\n",
              "      cursor: pointer;\n",
              "      display: none;\n",
              "      fill: #1967D2;\n",
              "      height: 32px;\n",
              "      padding: 0 0 0 0;\n",
              "      width: 32px;\n",
              "    }\n",
              "\n",
              "    .colab-df-convert:hover {\n",
              "      background-color: #E2EBFA;\n",
              "      box-shadow: 0px 1px 2px rgba(60, 64, 67, 0.3), 0px 1px 3px 1px rgba(60, 64, 67, 0.15);\n",
              "      fill: #174EA6;\n",
              "    }\n",
              "\n",
              "    [theme=dark] .colab-df-convert {\n",
              "      background-color: #3B4455;\n",
              "      fill: #D2E3FC;\n",
              "    }\n",
              "\n",
              "    [theme=dark] .colab-df-convert:hover {\n",
              "      background-color: #434B5C;\n",
              "      box-shadow: 0px 1px 3px 1px rgba(0, 0, 0, 0.15);\n",
              "      filter: drop-shadow(0px 1px 2px rgba(0, 0, 0, 0.3));\n",
              "      fill: #FFFFFF;\n",
              "    }\n",
              "  </style>\n",
              "\n",
              "      <script>\n",
              "        const buttonEl =\n",
              "          document.querySelector('#df-f038d9b8-1053-4669-a1e0-d9eceba95a47 button.colab-df-convert');\n",
              "        buttonEl.style.display =\n",
              "          google.colab.kernel.accessAllowed ? 'block' : 'none';\n",
              "\n",
              "        async function convertToInteractive(key) {\n",
              "          const element = document.querySelector('#df-f038d9b8-1053-4669-a1e0-d9eceba95a47');\n",
              "          const dataTable =\n",
              "            await google.colab.kernel.invokeFunction('convertToInteractive',\n",
              "                                                     [key], {});\n",
              "          if (!dataTable) return;\n",
              "\n",
              "          const docLinkHtml = 'Like what you see? Visit the ' +\n",
              "            '<a target=\"_blank\" href=https://colab.research.google.com/notebooks/data_table.ipynb>data table notebook</a>'\n",
              "            + ' to learn more about interactive tables.';\n",
              "          element.innerHTML = '';\n",
              "          dataTable['output_type'] = 'display_data';\n",
              "          await google.colab.output.renderOutput(dataTable, element);\n",
              "          const docLink = document.createElement('div');\n",
              "          docLink.innerHTML = docLinkHtml;\n",
              "          element.appendChild(docLink);\n",
              "        }\n",
              "      </script>\n",
              "    </div>\n",
              "  </div>\n",
              "  "
            ]
          },
          "metadata": {},
          "execution_count": 24
        }
      ]
    }
  ]
}