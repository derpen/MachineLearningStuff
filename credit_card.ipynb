{
  "nbformat": 4,
  "nbformat_minor": 0,
  "metadata": {
    "colab": {
      "provenance": [],
      "authorship_tag": "ABX9TyPzPys+0FdMiz9XBg3JmThD",
      "include_colab_link": true
    },
    "kernelspec": {
      "name": "python3",
      "display_name": "Python 3"
    },
    "language_info": {
      "name": "python"
    }
  },
  "cells": [
    {
      "cell_type": "markdown",
      "metadata": {
        "id": "view-in-github",
        "colab_type": "text"
      },
      "source": [
        "<a href=\"https://colab.research.google.com/github/derpen/MachineLearningStuff/blob/main/credit_card.ipynb\" target=\"_parent\"><img src=\"https://colab.research.google.com/assets/colab-badge.svg\" alt=\"Open In Colab\"/></a>"
      ]
    },
    {
      "cell_type": "markdown",
      "source": [
        "# Importing"
      ],
      "metadata": {
        "id": "JS3YlJbYzqAJ"
      }
    },
    {
      "cell_type": "code",
      "source": [
        "import pandas as pd\n",
        "import numpy as np\n",
        "import matplotlib.pyplot as plt\n",
        "import seaborn as sns\n",
        "from sklearn.preprocessing import StandardScaler, normalize\n",
        "from sklearn.cluster import KMeans\n",
        "from sklearn.decomposition import PCA\n",
        "from sklearn.metrics import silhouette_score"
      ],
      "metadata": {
        "id": "WcP9z3uizltU"
      },
      "execution_count": 1,
      "outputs": []
    },
    {
      "cell_type": "code",
      "source": [
        "# For collab\n",
        "from google.colab import drive\n",
        "drive.mount('/content/drive')"
      ],
      "metadata": {
        "colab": {
          "base_uri": "https://localhost:8080/"
        },
        "id": "wXLB5VKN5u26",
        "outputId": "7a4e56f4-8521-4123-f7cf-ef775e8d6a7e"
      },
      "execution_count": 2,
      "outputs": [
        {
          "output_type": "stream",
          "name": "stdout",
          "text": [
            "Drive already mounted at /content/drive; to attempt to forcibly remount, call drive.mount(\"/content/drive\", force_remount=True).\n"
          ]
        }
      ]
    },
    {
      "cell_type": "code",
      "source": [
        "# CreditCards = pd.read_csv(\"cc.csv\")\n",
        "CreditCards = pd.read_csv(\"/content/drive/MyDrive/cc.csv\") \n",
        "CreditCards"
      ],
      "metadata": {
        "colab": {
          "base_uri": "https://localhost:8080/",
          "height": 488
        },
        "id": "kxjM5LsJzpUN",
        "outputId": "e502f17e-fd77-4b25-f5a1-9988f1314b8f"
      },
      "execution_count": 3,
      "outputs": [
        {
          "output_type": "execute_result",
          "data": {
            "text/plain": [
              "     CUST_ID      BALANCE  BALANCE_FREQUENCY  PURCHASES  ONEOFF_PURCHASES  \\\n",
              "0     C10001    40.900749           0.818182      95.40              0.00   \n",
              "1     C10002  3202.467416           0.909091       0.00              0.00   \n",
              "2     C10003  2495.148862           1.000000     773.17            773.17   \n",
              "3     C10004  1666.670542           0.636364    1499.00           1499.00   \n",
              "4     C10005   817.714335           1.000000      16.00             16.00   \n",
              "...      ...          ...                ...        ...               ...   \n",
              "8945  C19186    28.493517           1.000000     291.12              0.00   \n",
              "8946  C19187    19.183215           1.000000     300.00              0.00   \n",
              "8947  C19188    23.398673           0.833333     144.40              0.00   \n",
              "8948  C19189    13.457564           0.833333       0.00              0.00   \n",
              "8949  C19190   372.708075           0.666667    1093.25           1093.25   \n",
              "\n",
              "      INSTALLMENTS_PURCHASES  CASH_ADVANCE  PURCHASES_FREQUENCY  \\\n",
              "0                      95.40      0.000000             0.166667   \n",
              "1                       0.00   6442.945483             0.000000   \n",
              "2                       0.00      0.000000             1.000000   \n",
              "3                       0.00    205.788017             0.083333   \n",
              "4                       0.00      0.000000             0.083333   \n",
              "...                      ...           ...                  ...   \n",
              "8945                  291.12      0.000000             1.000000   \n",
              "8946                  300.00      0.000000             1.000000   \n",
              "8947                  144.40      0.000000             0.833333   \n",
              "8948                    0.00     36.558778             0.000000   \n",
              "8949                    0.00    127.040008             0.666667   \n",
              "\n",
              "      ONEOFF_PURCHASES_FREQUENCY  PURCHASES_INSTALLMENTS_FREQUENCY  \\\n",
              "0                       0.000000                          0.083333   \n",
              "1                       0.000000                          0.000000   \n",
              "2                       1.000000                          0.000000   \n",
              "3                       0.083333                          0.000000   \n",
              "4                       0.083333                          0.000000   \n",
              "...                          ...                               ...   \n",
              "8945                    0.000000                          0.833333   \n",
              "8946                    0.000000                          0.833333   \n",
              "8947                    0.000000                          0.666667   \n",
              "8948                    0.000000                          0.000000   \n",
              "8949                    0.666667                          0.000000   \n",
              "\n",
              "      CASH_ADVANCE_FREQUENCY  CASH_ADVANCE_TRX  PURCHASES_TRX  CREDIT_LIMIT  \\\n",
              "0                   0.000000                 0              2        1000.0   \n",
              "1                   0.250000                 4              0        7000.0   \n",
              "2                   0.000000                 0             12        7500.0   \n",
              "3                   0.083333                 1              1        7500.0   \n",
              "4                   0.000000                 0              1        1200.0   \n",
              "...                      ...               ...            ...           ...   \n",
              "8945                0.000000                 0              6        1000.0   \n",
              "8946                0.000000                 0              6        1000.0   \n",
              "8947                0.000000                 0              5        1000.0   \n",
              "8948                0.166667                 2              0         500.0   \n",
              "8949                0.333333                 2             23        1200.0   \n",
              "\n",
              "         PAYMENTS  MINIMUM_PAYMENTS  PRC_FULL_PAYMENT  TENURE  \n",
              "0      201.802084        139.509787          0.000000      12  \n",
              "1     4103.032597       1072.340217          0.222222      12  \n",
              "2      622.066742        627.284787          0.000000      12  \n",
              "3        0.000000               NaN          0.000000      12  \n",
              "4      678.334763        244.791237          0.000000      12  \n",
              "...           ...               ...               ...     ...  \n",
              "8945   325.594462         48.886365          0.500000       6  \n",
              "8946   275.861322               NaN          0.000000       6  \n",
              "8947    81.270775         82.418369          0.250000       6  \n",
              "8948    52.549959         55.755628          0.250000       6  \n",
              "8949    63.165404         88.288956          0.000000       6  \n",
              "\n",
              "[8950 rows x 18 columns]"
            ],
            "text/html": [
              "\n",
              "  <div id=\"df-3ff97b81-07f8-40f9-a142-8ac0c0baf2ab\">\n",
              "    <div class=\"colab-df-container\">\n",
              "      <div>\n",
              "<style scoped>\n",
              "    .dataframe tbody tr th:only-of-type {\n",
              "        vertical-align: middle;\n",
              "    }\n",
              "\n",
              "    .dataframe tbody tr th {\n",
              "        vertical-align: top;\n",
              "    }\n",
              "\n",
              "    .dataframe thead th {\n",
              "        text-align: right;\n",
              "    }\n",
              "</style>\n",
              "<table border=\"1\" class=\"dataframe\">\n",
              "  <thead>\n",
              "    <tr style=\"text-align: right;\">\n",
              "      <th></th>\n",
              "      <th>CUST_ID</th>\n",
              "      <th>BALANCE</th>\n",
              "      <th>BALANCE_FREQUENCY</th>\n",
              "      <th>PURCHASES</th>\n",
              "      <th>ONEOFF_PURCHASES</th>\n",
              "      <th>INSTALLMENTS_PURCHASES</th>\n",
              "      <th>CASH_ADVANCE</th>\n",
              "      <th>PURCHASES_FREQUENCY</th>\n",
              "      <th>ONEOFF_PURCHASES_FREQUENCY</th>\n",
              "      <th>PURCHASES_INSTALLMENTS_FREQUENCY</th>\n",
              "      <th>CASH_ADVANCE_FREQUENCY</th>\n",
              "      <th>CASH_ADVANCE_TRX</th>\n",
              "      <th>PURCHASES_TRX</th>\n",
              "      <th>CREDIT_LIMIT</th>\n",
              "      <th>PAYMENTS</th>\n",
              "      <th>MINIMUM_PAYMENTS</th>\n",
              "      <th>PRC_FULL_PAYMENT</th>\n",
              "      <th>TENURE</th>\n",
              "    </tr>\n",
              "  </thead>\n",
              "  <tbody>\n",
              "    <tr>\n",
              "      <th>0</th>\n",
              "      <td>C10001</td>\n",
              "      <td>40.900749</td>\n",
              "      <td>0.818182</td>\n",
              "      <td>95.40</td>\n",
              "      <td>0.00</td>\n",
              "      <td>95.40</td>\n",
              "      <td>0.000000</td>\n",
              "      <td>0.166667</td>\n",
              "      <td>0.000000</td>\n",
              "      <td>0.083333</td>\n",
              "      <td>0.000000</td>\n",
              "      <td>0</td>\n",
              "      <td>2</td>\n",
              "      <td>1000.0</td>\n",
              "      <td>201.802084</td>\n",
              "      <td>139.509787</td>\n",
              "      <td>0.000000</td>\n",
              "      <td>12</td>\n",
              "    </tr>\n",
              "    <tr>\n",
              "      <th>1</th>\n",
              "      <td>C10002</td>\n",
              "      <td>3202.467416</td>\n",
              "      <td>0.909091</td>\n",
              "      <td>0.00</td>\n",
              "      <td>0.00</td>\n",
              "      <td>0.00</td>\n",
              "      <td>6442.945483</td>\n",
              "      <td>0.000000</td>\n",
              "      <td>0.000000</td>\n",
              "      <td>0.000000</td>\n",
              "      <td>0.250000</td>\n",
              "      <td>4</td>\n",
              "      <td>0</td>\n",
              "      <td>7000.0</td>\n",
              "      <td>4103.032597</td>\n",
              "      <td>1072.340217</td>\n",
              "      <td>0.222222</td>\n",
              "      <td>12</td>\n",
              "    </tr>\n",
              "    <tr>\n",
              "      <th>2</th>\n",
              "      <td>C10003</td>\n",
              "      <td>2495.148862</td>\n",
              "      <td>1.000000</td>\n",
              "      <td>773.17</td>\n",
              "      <td>773.17</td>\n",
              "      <td>0.00</td>\n",
              "      <td>0.000000</td>\n",
              "      <td>1.000000</td>\n",
              "      <td>1.000000</td>\n",
              "      <td>0.000000</td>\n",
              "      <td>0.000000</td>\n",
              "      <td>0</td>\n",
              "      <td>12</td>\n",
              "      <td>7500.0</td>\n",
              "      <td>622.066742</td>\n",
              "      <td>627.284787</td>\n",
              "      <td>0.000000</td>\n",
              "      <td>12</td>\n",
              "    </tr>\n",
              "    <tr>\n",
              "      <th>3</th>\n",
              "      <td>C10004</td>\n",
              "      <td>1666.670542</td>\n",
              "      <td>0.636364</td>\n",
              "      <td>1499.00</td>\n",
              "      <td>1499.00</td>\n",
              "      <td>0.00</td>\n",
              "      <td>205.788017</td>\n",
              "      <td>0.083333</td>\n",
              "      <td>0.083333</td>\n",
              "      <td>0.000000</td>\n",
              "      <td>0.083333</td>\n",
              "      <td>1</td>\n",
              "      <td>1</td>\n",
              "      <td>7500.0</td>\n",
              "      <td>0.000000</td>\n",
              "      <td>NaN</td>\n",
              "      <td>0.000000</td>\n",
              "      <td>12</td>\n",
              "    </tr>\n",
              "    <tr>\n",
              "      <th>4</th>\n",
              "      <td>C10005</td>\n",
              "      <td>817.714335</td>\n",
              "      <td>1.000000</td>\n",
              "      <td>16.00</td>\n",
              "      <td>16.00</td>\n",
              "      <td>0.00</td>\n",
              "      <td>0.000000</td>\n",
              "      <td>0.083333</td>\n",
              "      <td>0.083333</td>\n",
              "      <td>0.000000</td>\n",
              "      <td>0.000000</td>\n",
              "      <td>0</td>\n",
              "      <td>1</td>\n",
              "      <td>1200.0</td>\n",
              "      <td>678.334763</td>\n",
              "      <td>244.791237</td>\n",
              "      <td>0.000000</td>\n",
              "      <td>12</td>\n",
              "    </tr>\n",
              "    <tr>\n",
              "      <th>...</th>\n",
              "      <td>...</td>\n",
              "      <td>...</td>\n",
              "      <td>...</td>\n",
              "      <td>...</td>\n",
              "      <td>...</td>\n",
              "      <td>...</td>\n",
              "      <td>...</td>\n",
              "      <td>...</td>\n",
              "      <td>...</td>\n",
              "      <td>...</td>\n",
              "      <td>...</td>\n",
              "      <td>...</td>\n",
              "      <td>...</td>\n",
              "      <td>...</td>\n",
              "      <td>...</td>\n",
              "      <td>...</td>\n",
              "      <td>...</td>\n",
              "      <td>...</td>\n",
              "    </tr>\n",
              "    <tr>\n",
              "      <th>8945</th>\n",
              "      <td>C19186</td>\n",
              "      <td>28.493517</td>\n",
              "      <td>1.000000</td>\n",
              "      <td>291.12</td>\n",
              "      <td>0.00</td>\n",
              "      <td>291.12</td>\n",
              "      <td>0.000000</td>\n",
              "      <td>1.000000</td>\n",
              "      <td>0.000000</td>\n",
              "      <td>0.833333</td>\n",
              "      <td>0.000000</td>\n",
              "      <td>0</td>\n",
              "      <td>6</td>\n",
              "      <td>1000.0</td>\n",
              "      <td>325.594462</td>\n",
              "      <td>48.886365</td>\n",
              "      <td>0.500000</td>\n",
              "      <td>6</td>\n",
              "    </tr>\n",
              "    <tr>\n",
              "      <th>8946</th>\n",
              "      <td>C19187</td>\n",
              "      <td>19.183215</td>\n",
              "      <td>1.000000</td>\n",
              "      <td>300.00</td>\n",
              "      <td>0.00</td>\n",
              "      <td>300.00</td>\n",
              "      <td>0.000000</td>\n",
              "      <td>1.000000</td>\n",
              "      <td>0.000000</td>\n",
              "      <td>0.833333</td>\n",
              "      <td>0.000000</td>\n",
              "      <td>0</td>\n",
              "      <td>6</td>\n",
              "      <td>1000.0</td>\n",
              "      <td>275.861322</td>\n",
              "      <td>NaN</td>\n",
              "      <td>0.000000</td>\n",
              "      <td>6</td>\n",
              "    </tr>\n",
              "    <tr>\n",
              "      <th>8947</th>\n",
              "      <td>C19188</td>\n",
              "      <td>23.398673</td>\n",
              "      <td>0.833333</td>\n",
              "      <td>144.40</td>\n",
              "      <td>0.00</td>\n",
              "      <td>144.40</td>\n",
              "      <td>0.000000</td>\n",
              "      <td>0.833333</td>\n",
              "      <td>0.000000</td>\n",
              "      <td>0.666667</td>\n",
              "      <td>0.000000</td>\n",
              "      <td>0</td>\n",
              "      <td>5</td>\n",
              "      <td>1000.0</td>\n",
              "      <td>81.270775</td>\n",
              "      <td>82.418369</td>\n",
              "      <td>0.250000</td>\n",
              "      <td>6</td>\n",
              "    </tr>\n",
              "    <tr>\n",
              "      <th>8948</th>\n",
              "      <td>C19189</td>\n",
              "      <td>13.457564</td>\n",
              "      <td>0.833333</td>\n",
              "      <td>0.00</td>\n",
              "      <td>0.00</td>\n",
              "      <td>0.00</td>\n",
              "      <td>36.558778</td>\n",
              "      <td>0.000000</td>\n",
              "      <td>0.000000</td>\n",
              "      <td>0.000000</td>\n",
              "      <td>0.166667</td>\n",
              "      <td>2</td>\n",
              "      <td>0</td>\n",
              "      <td>500.0</td>\n",
              "      <td>52.549959</td>\n",
              "      <td>55.755628</td>\n",
              "      <td>0.250000</td>\n",
              "      <td>6</td>\n",
              "    </tr>\n",
              "    <tr>\n",
              "      <th>8949</th>\n",
              "      <td>C19190</td>\n",
              "      <td>372.708075</td>\n",
              "      <td>0.666667</td>\n",
              "      <td>1093.25</td>\n",
              "      <td>1093.25</td>\n",
              "      <td>0.00</td>\n",
              "      <td>127.040008</td>\n",
              "      <td>0.666667</td>\n",
              "      <td>0.666667</td>\n",
              "      <td>0.000000</td>\n",
              "      <td>0.333333</td>\n",
              "      <td>2</td>\n",
              "      <td>23</td>\n",
              "      <td>1200.0</td>\n",
              "      <td>63.165404</td>\n",
              "      <td>88.288956</td>\n",
              "      <td>0.000000</td>\n",
              "      <td>6</td>\n",
              "    </tr>\n",
              "  </tbody>\n",
              "</table>\n",
              "<p>8950 rows × 18 columns</p>\n",
              "</div>\n",
              "      <button class=\"colab-df-convert\" onclick=\"convertToInteractive('df-3ff97b81-07f8-40f9-a142-8ac0c0baf2ab')\"\n",
              "              title=\"Convert this dataframe to an interactive table.\"\n",
              "              style=\"display:none;\">\n",
              "        \n",
              "  <svg xmlns=\"http://www.w3.org/2000/svg\" height=\"24px\"viewBox=\"0 0 24 24\"\n",
              "       width=\"24px\">\n",
              "    <path d=\"M0 0h24v24H0V0z\" fill=\"none\"/>\n",
              "    <path d=\"M18.56 5.44l.94 2.06.94-2.06 2.06-.94-2.06-.94-.94-2.06-.94 2.06-2.06.94zm-11 1L8.5 8.5l.94-2.06 2.06-.94-2.06-.94L8.5 2.5l-.94 2.06-2.06.94zm10 10l.94 2.06.94-2.06 2.06-.94-2.06-.94-.94-2.06-.94 2.06-2.06.94z\"/><path d=\"M17.41 7.96l-1.37-1.37c-.4-.4-.92-.59-1.43-.59-.52 0-1.04.2-1.43.59L10.3 9.45l-7.72 7.72c-.78.78-.78 2.05 0 2.83L4 21.41c.39.39.9.59 1.41.59.51 0 1.02-.2 1.41-.59l7.78-7.78 2.81-2.81c.8-.78.8-2.07 0-2.86zM5.41 20L4 18.59l7.72-7.72 1.47 1.35L5.41 20z\"/>\n",
              "  </svg>\n",
              "      </button>\n",
              "      \n",
              "  <style>\n",
              "    .colab-df-container {\n",
              "      display:flex;\n",
              "      flex-wrap:wrap;\n",
              "      gap: 12px;\n",
              "    }\n",
              "\n",
              "    .colab-df-convert {\n",
              "      background-color: #E8F0FE;\n",
              "      border: none;\n",
              "      border-radius: 50%;\n",
              "      cursor: pointer;\n",
              "      display: none;\n",
              "      fill: #1967D2;\n",
              "      height: 32px;\n",
              "      padding: 0 0 0 0;\n",
              "      width: 32px;\n",
              "    }\n",
              "\n",
              "    .colab-df-convert:hover {\n",
              "      background-color: #E2EBFA;\n",
              "      box-shadow: 0px 1px 2px rgba(60, 64, 67, 0.3), 0px 1px 3px 1px rgba(60, 64, 67, 0.15);\n",
              "      fill: #174EA6;\n",
              "    }\n",
              "\n",
              "    [theme=dark] .colab-df-convert {\n",
              "      background-color: #3B4455;\n",
              "      fill: #D2E3FC;\n",
              "    }\n",
              "\n",
              "    [theme=dark] .colab-df-convert:hover {\n",
              "      background-color: #434B5C;\n",
              "      box-shadow: 0px 1px 3px 1px rgba(0, 0, 0, 0.15);\n",
              "      filter: drop-shadow(0px 1px 2px rgba(0, 0, 0, 0.3));\n",
              "      fill: #FFFFFF;\n",
              "    }\n",
              "  </style>\n",
              "\n",
              "      <script>\n",
              "        const buttonEl =\n",
              "          document.querySelector('#df-3ff97b81-07f8-40f9-a142-8ac0c0baf2ab button.colab-df-convert');\n",
              "        buttonEl.style.display =\n",
              "          google.colab.kernel.accessAllowed ? 'block' : 'none';\n",
              "\n",
              "        async function convertToInteractive(key) {\n",
              "          const element = document.querySelector('#df-3ff97b81-07f8-40f9-a142-8ac0c0baf2ab');\n",
              "          const dataTable =\n",
              "            await google.colab.kernel.invokeFunction('convertToInteractive',\n",
              "                                                     [key], {});\n",
              "          if (!dataTable) return;\n",
              "\n",
              "          const docLinkHtml = 'Like what you see? Visit the ' +\n",
              "            '<a target=\"_blank\" href=https://colab.research.google.com/notebooks/data_table.ipynb>data table notebook</a>'\n",
              "            + ' to learn more about interactive tables.';\n",
              "          element.innerHTML = '';\n",
              "          dataTable['output_type'] = 'display_data';\n",
              "          await google.colab.output.renderOutput(dataTable, element);\n",
              "          const docLink = document.createElement('div');\n",
              "          docLink.innerHTML = docLinkHtml;\n",
              "          element.appendChild(docLink);\n",
              "        }\n",
              "      </script>\n",
              "    </div>\n",
              "  </div>\n",
              "  "
            ]
          },
          "metadata": {},
          "execution_count": 3
        }
      ]
    },
    {
      "cell_type": "code",
      "source": [
        "CreditCards.drop(labels=\"CUST_ID\", axis=1, inplace=True) # just remove lmao"
      ],
      "metadata": {
        "id": "50U2fF6R05y_"
      },
      "execution_count": 4,
      "outputs": []
    },
    {
      "cell_type": "code",
      "source": [
        "CreditCards.describe().T"
      ],
      "metadata": {
        "colab": {
          "base_uri": "https://localhost:8080/",
          "height": 582
        },
        "id": "1bDx4HQY2fA9",
        "outputId": "74b9e1e6-b026-450e-f8fa-74372af57967"
      },
      "execution_count": 5,
      "outputs": [
        {
          "output_type": "execute_result",
          "data": {
            "text/plain": [
              "                                   count         mean          std        min  \\\n",
              "BALANCE                           8950.0  1564.474828  2081.531879   0.000000   \n",
              "BALANCE_FREQUENCY                 8950.0     0.877271     0.236904   0.000000   \n",
              "PURCHASES                         8950.0  1003.204834  2136.634782   0.000000   \n",
              "ONEOFF_PURCHASES                  8950.0   592.437371  1659.887917   0.000000   \n",
              "INSTALLMENTS_PURCHASES            8950.0   411.067645   904.338115   0.000000   \n",
              "CASH_ADVANCE                      8950.0   978.871112  2097.163877   0.000000   \n",
              "PURCHASES_FREQUENCY               8950.0     0.490351     0.401371   0.000000   \n",
              "ONEOFF_PURCHASES_FREQUENCY        8950.0     0.202458     0.298336   0.000000   \n",
              "PURCHASES_INSTALLMENTS_FREQUENCY  8950.0     0.364437     0.397448   0.000000   \n",
              "CASH_ADVANCE_FREQUENCY            8950.0     0.135144     0.200121   0.000000   \n",
              "CASH_ADVANCE_TRX                  8950.0     3.248827     6.824647   0.000000   \n",
              "PURCHASES_TRX                     8950.0    14.709832    24.857649   0.000000   \n",
              "CREDIT_LIMIT                      8949.0  4494.449450  3638.815725  50.000000   \n",
              "PAYMENTS                          8950.0  1733.143852  2895.063757   0.000000   \n",
              "MINIMUM_PAYMENTS                  8637.0   864.206542  2372.446607   0.019163   \n",
              "PRC_FULL_PAYMENT                  8950.0     0.153715     0.292499   0.000000   \n",
              "TENURE                            8950.0    11.517318     1.338331   6.000000   \n",
              "\n",
              "                                          25%          50%          75%  \\\n",
              "BALANCE                            128.281915   873.385231  2054.140036   \n",
              "BALANCE_FREQUENCY                    0.888889     1.000000     1.000000   \n",
              "PURCHASES                           39.635000   361.280000  1110.130000   \n",
              "ONEOFF_PURCHASES                     0.000000    38.000000   577.405000   \n",
              "INSTALLMENTS_PURCHASES               0.000000    89.000000   468.637500   \n",
              "CASH_ADVANCE                         0.000000     0.000000  1113.821139   \n",
              "PURCHASES_FREQUENCY                  0.083333     0.500000     0.916667   \n",
              "ONEOFF_PURCHASES_FREQUENCY           0.000000     0.083333     0.300000   \n",
              "PURCHASES_INSTALLMENTS_FREQUENCY     0.000000     0.166667     0.750000   \n",
              "CASH_ADVANCE_FREQUENCY               0.000000     0.000000     0.222222   \n",
              "CASH_ADVANCE_TRX                     0.000000     0.000000     4.000000   \n",
              "PURCHASES_TRX                        1.000000     7.000000    17.000000   \n",
              "CREDIT_LIMIT                      1600.000000  3000.000000  6500.000000   \n",
              "PAYMENTS                           383.276166   856.901546  1901.134317   \n",
              "MINIMUM_PAYMENTS                   169.123707   312.343947   825.485459   \n",
              "PRC_FULL_PAYMENT                     0.000000     0.000000     0.142857   \n",
              "TENURE                              12.000000    12.000000    12.000000   \n",
              "\n",
              "                                          max  \n",
              "BALANCE                           19043.13856  \n",
              "BALANCE_FREQUENCY                     1.00000  \n",
              "PURCHASES                         49039.57000  \n",
              "ONEOFF_PURCHASES                  40761.25000  \n",
              "INSTALLMENTS_PURCHASES            22500.00000  \n",
              "CASH_ADVANCE                      47137.21176  \n",
              "PURCHASES_FREQUENCY                   1.00000  \n",
              "ONEOFF_PURCHASES_FREQUENCY            1.00000  \n",
              "PURCHASES_INSTALLMENTS_FREQUENCY      1.00000  \n",
              "CASH_ADVANCE_FREQUENCY                1.50000  \n",
              "CASH_ADVANCE_TRX                    123.00000  \n",
              "PURCHASES_TRX                       358.00000  \n",
              "CREDIT_LIMIT                      30000.00000  \n",
              "PAYMENTS                          50721.48336  \n",
              "MINIMUM_PAYMENTS                  76406.20752  \n",
              "PRC_FULL_PAYMENT                      1.00000  \n",
              "TENURE                               12.00000  "
            ],
            "text/html": [
              "\n",
              "  <div id=\"df-46a01a6d-d984-48b5-bfba-577df0cc837e\">\n",
              "    <div class=\"colab-df-container\">\n",
              "      <div>\n",
              "<style scoped>\n",
              "    .dataframe tbody tr th:only-of-type {\n",
              "        vertical-align: middle;\n",
              "    }\n",
              "\n",
              "    .dataframe tbody tr th {\n",
              "        vertical-align: top;\n",
              "    }\n",
              "\n",
              "    .dataframe thead th {\n",
              "        text-align: right;\n",
              "    }\n",
              "</style>\n",
              "<table border=\"1\" class=\"dataframe\">\n",
              "  <thead>\n",
              "    <tr style=\"text-align: right;\">\n",
              "      <th></th>\n",
              "      <th>count</th>\n",
              "      <th>mean</th>\n",
              "      <th>std</th>\n",
              "      <th>min</th>\n",
              "      <th>25%</th>\n",
              "      <th>50%</th>\n",
              "      <th>75%</th>\n",
              "      <th>max</th>\n",
              "    </tr>\n",
              "  </thead>\n",
              "  <tbody>\n",
              "    <tr>\n",
              "      <th>BALANCE</th>\n",
              "      <td>8950.0</td>\n",
              "      <td>1564.474828</td>\n",
              "      <td>2081.531879</td>\n",
              "      <td>0.000000</td>\n",
              "      <td>128.281915</td>\n",
              "      <td>873.385231</td>\n",
              "      <td>2054.140036</td>\n",
              "      <td>19043.13856</td>\n",
              "    </tr>\n",
              "    <tr>\n",
              "      <th>BALANCE_FREQUENCY</th>\n",
              "      <td>8950.0</td>\n",
              "      <td>0.877271</td>\n",
              "      <td>0.236904</td>\n",
              "      <td>0.000000</td>\n",
              "      <td>0.888889</td>\n",
              "      <td>1.000000</td>\n",
              "      <td>1.000000</td>\n",
              "      <td>1.00000</td>\n",
              "    </tr>\n",
              "    <tr>\n",
              "      <th>PURCHASES</th>\n",
              "      <td>8950.0</td>\n",
              "      <td>1003.204834</td>\n",
              "      <td>2136.634782</td>\n",
              "      <td>0.000000</td>\n",
              "      <td>39.635000</td>\n",
              "      <td>361.280000</td>\n",
              "      <td>1110.130000</td>\n",
              "      <td>49039.57000</td>\n",
              "    </tr>\n",
              "    <tr>\n",
              "      <th>ONEOFF_PURCHASES</th>\n",
              "      <td>8950.0</td>\n",
              "      <td>592.437371</td>\n",
              "      <td>1659.887917</td>\n",
              "      <td>0.000000</td>\n",
              "      <td>0.000000</td>\n",
              "      <td>38.000000</td>\n",
              "      <td>577.405000</td>\n",
              "      <td>40761.25000</td>\n",
              "    </tr>\n",
              "    <tr>\n",
              "      <th>INSTALLMENTS_PURCHASES</th>\n",
              "      <td>8950.0</td>\n",
              "      <td>411.067645</td>\n",
              "      <td>904.338115</td>\n",
              "      <td>0.000000</td>\n",
              "      <td>0.000000</td>\n",
              "      <td>89.000000</td>\n",
              "      <td>468.637500</td>\n",
              "      <td>22500.00000</td>\n",
              "    </tr>\n",
              "    <tr>\n",
              "      <th>CASH_ADVANCE</th>\n",
              "      <td>8950.0</td>\n",
              "      <td>978.871112</td>\n",
              "      <td>2097.163877</td>\n",
              "      <td>0.000000</td>\n",
              "      <td>0.000000</td>\n",
              "      <td>0.000000</td>\n",
              "      <td>1113.821139</td>\n",
              "      <td>47137.21176</td>\n",
              "    </tr>\n",
              "    <tr>\n",
              "      <th>PURCHASES_FREQUENCY</th>\n",
              "      <td>8950.0</td>\n",
              "      <td>0.490351</td>\n",
              "      <td>0.401371</td>\n",
              "      <td>0.000000</td>\n",
              "      <td>0.083333</td>\n",
              "      <td>0.500000</td>\n",
              "      <td>0.916667</td>\n",
              "      <td>1.00000</td>\n",
              "    </tr>\n",
              "    <tr>\n",
              "      <th>ONEOFF_PURCHASES_FREQUENCY</th>\n",
              "      <td>8950.0</td>\n",
              "      <td>0.202458</td>\n",
              "      <td>0.298336</td>\n",
              "      <td>0.000000</td>\n",
              "      <td>0.000000</td>\n",
              "      <td>0.083333</td>\n",
              "      <td>0.300000</td>\n",
              "      <td>1.00000</td>\n",
              "    </tr>\n",
              "    <tr>\n",
              "      <th>PURCHASES_INSTALLMENTS_FREQUENCY</th>\n",
              "      <td>8950.0</td>\n",
              "      <td>0.364437</td>\n",
              "      <td>0.397448</td>\n",
              "      <td>0.000000</td>\n",
              "      <td>0.000000</td>\n",
              "      <td>0.166667</td>\n",
              "      <td>0.750000</td>\n",
              "      <td>1.00000</td>\n",
              "    </tr>\n",
              "    <tr>\n",
              "      <th>CASH_ADVANCE_FREQUENCY</th>\n",
              "      <td>8950.0</td>\n",
              "      <td>0.135144</td>\n",
              "      <td>0.200121</td>\n",
              "      <td>0.000000</td>\n",
              "      <td>0.000000</td>\n",
              "      <td>0.000000</td>\n",
              "      <td>0.222222</td>\n",
              "      <td>1.50000</td>\n",
              "    </tr>\n",
              "    <tr>\n",
              "      <th>CASH_ADVANCE_TRX</th>\n",
              "      <td>8950.0</td>\n",
              "      <td>3.248827</td>\n",
              "      <td>6.824647</td>\n",
              "      <td>0.000000</td>\n",
              "      <td>0.000000</td>\n",
              "      <td>0.000000</td>\n",
              "      <td>4.000000</td>\n",
              "      <td>123.00000</td>\n",
              "    </tr>\n",
              "    <tr>\n",
              "      <th>PURCHASES_TRX</th>\n",
              "      <td>8950.0</td>\n",
              "      <td>14.709832</td>\n",
              "      <td>24.857649</td>\n",
              "      <td>0.000000</td>\n",
              "      <td>1.000000</td>\n",
              "      <td>7.000000</td>\n",
              "      <td>17.000000</td>\n",
              "      <td>358.00000</td>\n",
              "    </tr>\n",
              "    <tr>\n",
              "      <th>CREDIT_LIMIT</th>\n",
              "      <td>8949.0</td>\n",
              "      <td>4494.449450</td>\n",
              "      <td>3638.815725</td>\n",
              "      <td>50.000000</td>\n",
              "      <td>1600.000000</td>\n",
              "      <td>3000.000000</td>\n",
              "      <td>6500.000000</td>\n",
              "      <td>30000.00000</td>\n",
              "    </tr>\n",
              "    <tr>\n",
              "      <th>PAYMENTS</th>\n",
              "      <td>8950.0</td>\n",
              "      <td>1733.143852</td>\n",
              "      <td>2895.063757</td>\n",
              "      <td>0.000000</td>\n",
              "      <td>383.276166</td>\n",
              "      <td>856.901546</td>\n",
              "      <td>1901.134317</td>\n",
              "      <td>50721.48336</td>\n",
              "    </tr>\n",
              "    <tr>\n",
              "      <th>MINIMUM_PAYMENTS</th>\n",
              "      <td>8637.0</td>\n",
              "      <td>864.206542</td>\n",
              "      <td>2372.446607</td>\n",
              "      <td>0.019163</td>\n",
              "      <td>169.123707</td>\n",
              "      <td>312.343947</td>\n",
              "      <td>825.485459</td>\n",
              "      <td>76406.20752</td>\n",
              "    </tr>\n",
              "    <tr>\n",
              "      <th>PRC_FULL_PAYMENT</th>\n",
              "      <td>8950.0</td>\n",
              "      <td>0.153715</td>\n",
              "      <td>0.292499</td>\n",
              "      <td>0.000000</td>\n",
              "      <td>0.000000</td>\n",
              "      <td>0.000000</td>\n",
              "      <td>0.142857</td>\n",
              "      <td>1.00000</td>\n",
              "    </tr>\n",
              "    <tr>\n",
              "      <th>TENURE</th>\n",
              "      <td>8950.0</td>\n",
              "      <td>11.517318</td>\n",
              "      <td>1.338331</td>\n",
              "      <td>6.000000</td>\n",
              "      <td>12.000000</td>\n",
              "      <td>12.000000</td>\n",
              "      <td>12.000000</td>\n",
              "      <td>12.00000</td>\n",
              "    </tr>\n",
              "  </tbody>\n",
              "</table>\n",
              "</div>\n",
              "      <button class=\"colab-df-convert\" onclick=\"convertToInteractive('df-46a01a6d-d984-48b5-bfba-577df0cc837e')\"\n",
              "              title=\"Convert this dataframe to an interactive table.\"\n",
              "              style=\"display:none;\">\n",
              "        \n",
              "  <svg xmlns=\"http://www.w3.org/2000/svg\" height=\"24px\"viewBox=\"0 0 24 24\"\n",
              "       width=\"24px\">\n",
              "    <path d=\"M0 0h24v24H0V0z\" fill=\"none\"/>\n",
              "    <path d=\"M18.56 5.44l.94 2.06.94-2.06 2.06-.94-2.06-.94-.94-2.06-.94 2.06-2.06.94zm-11 1L8.5 8.5l.94-2.06 2.06-.94-2.06-.94L8.5 2.5l-.94 2.06-2.06.94zm10 10l.94 2.06.94-2.06 2.06-.94-2.06-.94-.94-2.06-.94 2.06-2.06.94z\"/><path d=\"M17.41 7.96l-1.37-1.37c-.4-.4-.92-.59-1.43-.59-.52 0-1.04.2-1.43.59L10.3 9.45l-7.72 7.72c-.78.78-.78 2.05 0 2.83L4 21.41c.39.39.9.59 1.41.59.51 0 1.02-.2 1.41-.59l7.78-7.78 2.81-2.81c.8-.78.8-2.07 0-2.86zM5.41 20L4 18.59l7.72-7.72 1.47 1.35L5.41 20z\"/>\n",
              "  </svg>\n",
              "      </button>\n",
              "      \n",
              "  <style>\n",
              "    .colab-df-container {\n",
              "      display:flex;\n",
              "      flex-wrap:wrap;\n",
              "      gap: 12px;\n",
              "    }\n",
              "\n",
              "    .colab-df-convert {\n",
              "      background-color: #E8F0FE;\n",
              "      border: none;\n",
              "      border-radius: 50%;\n",
              "      cursor: pointer;\n",
              "      display: none;\n",
              "      fill: #1967D2;\n",
              "      height: 32px;\n",
              "      padding: 0 0 0 0;\n",
              "      width: 32px;\n",
              "    }\n",
              "\n",
              "    .colab-df-convert:hover {\n",
              "      background-color: #E2EBFA;\n",
              "      box-shadow: 0px 1px 2px rgba(60, 64, 67, 0.3), 0px 1px 3px 1px rgba(60, 64, 67, 0.15);\n",
              "      fill: #174EA6;\n",
              "    }\n",
              "\n",
              "    [theme=dark] .colab-df-convert {\n",
              "      background-color: #3B4455;\n",
              "      fill: #D2E3FC;\n",
              "    }\n",
              "\n",
              "    [theme=dark] .colab-df-convert:hover {\n",
              "      background-color: #434B5C;\n",
              "      box-shadow: 0px 1px 3px 1px rgba(0, 0, 0, 0.15);\n",
              "      filter: drop-shadow(0px 1px 2px rgba(0, 0, 0, 0.3));\n",
              "      fill: #FFFFFF;\n",
              "    }\n",
              "  </style>\n",
              "\n",
              "      <script>\n",
              "        const buttonEl =\n",
              "          document.querySelector('#df-46a01a6d-d984-48b5-bfba-577df0cc837e button.colab-df-convert');\n",
              "        buttonEl.style.display =\n",
              "          google.colab.kernel.accessAllowed ? 'block' : 'none';\n",
              "\n",
              "        async function convertToInteractive(key) {\n",
              "          const element = document.querySelector('#df-46a01a6d-d984-48b5-bfba-577df0cc837e');\n",
              "          const dataTable =\n",
              "            await google.colab.kernel.invokeFunction('convertToInteractive',\n",
              "                                                     [key], {});\n",
              "          if (!dataTable) return;\n",
              "\n",
              "          const docLinkHtml = 'Like what you see? Visit the ' +\n",
              "            '<a target=\"_blank\" href=https://colab.research.google.com/notebooks/data_table.ipynb>data table notebook</a>'\n",
              "            + ' to learn more about interactive tables.';\n",
              "          element.innerHTML = '';\n",
              "          dataTable['output_type'] = 'display_data';\n",
              "          await google.colab.output.renderOutput(dataTable, element);\n",
              "          const docLink = document.createElement('div');\n",
              "          docLink.innerHTML = docLinkHtml;\n",
              "          element.appendChild(docLink);\n",
              "        }\n",
              "      </script>\n",
              "    </div>\n",
              "  </div>\n",
              "  "
            ]
          },
          "metadata": {},
          "execution_count": 5
        }
      ]
    },
    {
      "cell_type": "code",
      "source": [
        "CreditCards.info()"
      ],
      "metadata": {
        "id": "eOokyxU12tmU",
        "outputId": "bbad0131-ac24-46b9-c5c8-1d61e5c02fde",
        "colab": {
          "base_uri": "https://localhost:8080/"
        }
      },
      "execution_count": 6,
      "outputs": [
        {
          "output_type": "stream",
          "name": "stdout",
          "text": [
            "<class 'pandas.core.frame.DataFrame'>\n",
            "RangeIndex: 8950 entries, 0 to 8949\n",
            "Data columns (total 17 columns):\n",
            " #   Column                            Non-Null Count  Dtype  \n",
            "---  ------                            --------------  -----  \n",
            " 0   BALANCE                           8950 non-null   float64\n",
            " 1   BALANCE_FREQUENCY                 8950 non-null   float64\n",
            " 2   PURCHASES                         8950 non-null   float64\n",
            " 3   ONEOFF_PURCHASES                  8950 non-null   float64\n",
            " 4   INSTALLMENTS_PURCHASES            8950 non-null   float64\n",
            " 5   CASH_ADVANCE                      8950 non-null   float64\n",
            " 6   PURCHASES_FREQUENCY               8950 non-null   float64\n",
            " 7   ONEOFF_PURCHASES_FREQUENCY        8950 non-null   float64\n",
            " 8   PURCHASES_INSTALLMENTS_FREQUENCY  8950 non-null   float64\n",
            " 9   CASH_ADVANCE_FREQUENCY            8950 non-null   float64\n",
            " 10  CASH_ADVANCE_TRX                  8950 non-null   int64  \n",
            " 11  PURCHASES_TRX                     8950 non-null   int64  \n",
            " 12  CREDIT_LIMIT                      8949 non-null   float64\n",
            " 13  PAYMENTS                          8950 non-null   float64\n",
            " 14  MINIMUM_PAYMENTS                  8637 non-null   float64\n",
            " 15  PRC_FULL_PAYMENT                  8950 non-null   float64\n",
            " 16  TENURE                            8950 non-null   int64  \n",
            "dtypes: float64(14), int64(3)\n",
            "memory usage: 1.2 MB\n"
          ]
        }
      ]
    },
    {
      "cell_type": "code",
      "source": [
        "CreditCards.isna().sum()"
      ],
      "metadata": {
        "colab": {
          "base_uri": "https://localhost:8080/"
        },
        "id": "zSGrnAXyeRDq",
        "outputId": "2f80cefd-b05b-4e68-c897-f9156704cf47"
      },
      "execution_count": 7,
      "outputs": [
        {
          "output_type": "execute_result",
          "data": {
            "text/plain": [
              "BALANCE                               0\n",
              "BALANCE_FREQUENCY                     0\n",
              "PURCHASES                             0\n",
              "ONEOFF_PURCHASES                      0\n",
              "INSTALLMENTS_PURCHASES                0\n",
              "CASH_ADVANCE                          0\n",
              "PURCHASES_FREQUENCY                   0\n",
              "ONEOFF_PURCHASES_FREQUENCY            0\n",
              "PURCHASES_INSTALLMENTS_FREQUENCY      0\n",
              "CASH_ADVANCE_FREQUENCY                0\n",
              "CASH_ADVANCE_TRX                      0\n",
              "PURCHASES_TRX                         0\n",
              "CREDIT_LIMIT                          1\n",
              "PAYMENTS                              0\n",
              "MINIMUM_PAYMENTS                    313\n",
              "PRC_FULL_PAYMENT                      0\n",
              "TENURE                                0\n",
              "dtype: int64"
            ]
          },
          "metadata": {},
          "execution_count": 7
        }
      ]
    },
    {
      "cell_type": "code",
      "source": [
        "CreditCards.dropna(subset=['CREDIT_LIMIT'], inplace=True) # Karena cuma 1 yang na, buang aja"
      ],
      "metadata": {
        "id": "iuWtGF-zkgYP"
      },
      "execution_count": 8,
      "outputs": []
    },
    {
      "cell_type": "code",
      "source": [
        "CreditCards['MINIMUM_PAYMENTS'].fillna(CreditCards['MINIMUM_PAYMENTS'].median(), inplace=True) # isi dengan median, can try with mean later"
      ],
      "metadata": {
        "id": "tszqNLhskwZ3"
      },
      "execution_count": 9,
      "outputs": []
    },
    {
      "cell_type": "code",
      "source": [
        "CreditCards.isna().sum()"
      ],
      "metadata": {
        "colab": {
          "base_uri": "https://localhost:8080/"
        },
        "id": "d32XWVSOmnMe",
        "outputId": "ad58f0c8-61e0-49c2-9d07-ac98c18d2b93"
      },
      "execution_count": 10,
      "outputs": [
        {
          "output_type": "execute_result",
          "data": {
            "text/plain": [
              "BALANCE                             0\n",
              "BALANCE_FREQUENCY                   0\n",
              "PURCHASES                           0\n",
              "ONEOFF_PURCHASES                    0\n",
              "INSTALLMENTS_PURCHASES              0\n",
              "CASH_ADVANCE                        0\n",
              "PURCHASES_FREQUENCY                 0\n",
              "ONEOFF_PURCHASES_FREQUENCY          0\n",
              "PURCHASES_INSTALLMENTS_FREQUENCY    0\n",
              "CASH_ADVANCE_FREQUENCY              0\n",
              "CASH_ADVANCE_TRX                    0\n",
              "PURCHASES_TRX                       0\n",
              "CREDIT_LIMIT                        0\n",
              "PAYMENTS                            0\n",
              "MINIMUM_PAYMENTS                    0\n",
              "PRC_FULL_PAYMENT                    0\n",
              "TENURE                              0\n",
              "dtype: int64"
            ]
          },
          "metadata": {},
          "execution_count": 10
        }
      ]
    },
    {
      "cell_type": "code",
      "source": [
        "col = list(CreditCards.columns)\n",
        "CreditCards.hist(bins=20, figsize=(20, 15), layout=(5, 4)) # lets see the data"
      ],
      "metadata": {
        "colab": {
          "base_uri": "https://localhost:8080/",
          "height": 1000
        },
        "id": "fz5SzA3QsCgg",
        "outputId": "0aa301fe-2fa9-4fa8-88e5-cda26a1b862b"
      },
      "execution_count": 11,
      "outputs": [
        {
          "output_type": "execute_result",
          "data": {
            "text/plain": [
              "array([[<matplotlib.axes._subplots.AxesSubplot object at 0x7f63285b18d0>,\n",
              "        <matplotlib.axes._subplots.AxesSubplot object at 0x7f6328464cd0>,\n",
              "        <matplotlib.axes._subplots.AxesSubplot object at 0x7f6328429310>,\n",
              "        <matplotlib.axes._subplots.AxesSubplot object at 0x7f63283df910>],\n",
              "       [<matplotlib.axes._subplots.AxesSubplot object at 0x7f6328415f10>,\n",
              "        <matplotlib.axes._subplots.AxesSubplot object at 0x7f6328359550>,\n",
              "        <matplotlib.axes._subplots.AxesSubplot object at 0x7f632838fbd0>,\n",
              "        <matplotlib.axes._subplots.AxesSubplot object at 0x7f6328353150>],\n",
              "       [<matplotlib.axes._subplots.AxesSubplot object at 0x7f6328353190>,\n",
              "        <matplotlib.axes._subplots.AxesSubplot object at 0x7f6328309890>,\n",
              "        <matplotlib.axes._subplots.AxesSubplot object at 0x7f63282823d0>,\n",
              "        <matplotlib.axes._subplots.AxesSubplot object at 0x7f63282389d0>],\n",
              "       [<matplotlib.axes._subplots.AxesSubplot object at 0x7f63281e4b10>,\n",
              "        <matplotlib.axes._subplots.AxesSubplot object at 0x7f63281b1610>,\n",
              "        <matplotlib.axes._subplots.AxesSubplot object at 0x7f6328169b90>,\n",
              "        <matplotlib.axes._subplots.AxesSubplot object at 0x7f632812c1d0>],\n",
              "       [<matplotlib.axes._subplots.AxesSubplot object at 0x7f63280e27d0>,\n",
              "        <matplotlib.axes._subplots.AxesSubplot object at 0x7f6328098dd0>,\n",
              "        <matplotlib.axes._subplots.AxesSubplot object at 0x7f6328062990>,\n",
              "        <matplotlib.axes._subplots.AxesSubplot object at 0x7f6328021c50>]],\n",
              "      dtype=object)"
            ]
          },
          "metadata": {},
          "execution_count": 11
        },
        {
          "output_type": "display_data",
          "data": {
            "text/plain": [
              "<Figure size 1440x1080 with 20 Axes>"
            ],
            "image/png": "[encoded data removed]"
          },
          "metadata": {
            "needs_background": "light"
          }
        }
      ]
    },
    {
      "cell_type": "markdown",
      "source": [
        "# Data terlalu skewed, ini berarti terdapat outlier. Dan pada kasus ini, jumlahnya cukup banyak"
      ],
      "metadata": {
        "id": "6joZvPccdBoW"
      }
    },
    {
      "cell_type": "markdown",
      "source": [
        "# Mengurus Outlier\n",
        "\n",
        "# Jika tugas kita mendeteksi outlier\n",
        "* outliernya ga usah diapa apain\n",
        "\n",
        "# Kalau mau ngurus outlier, 3 cara\n",
        "* Just delete it. Metode ini buruk kalau outlier nya terlalu banyak, karena akan membuang terlalu banyak data\n",
        "* Ganti dengan median/mean/apalah. Simple dan efektif\n",
        "* Buat Batas. Ex: nilai berapapun yang diatas 5.6 akan dirubah jadi 5.6. Butuh effort ekstra, tetapi akan membantu model nantinya\n",
        "\n",
        "# Today, we will ignore outliers and see what happens"
      ],
      "metadata": {
        "id": "5ascdrc8_7Ot"
      }
    },
    {
      "cell_type": "code",
      "source": [
        "# Process the data\n",
        "# X = np.asarray(CreditCards)\n",
        "\n",
        "# Standardize the data, then normalize\n",
        "X = CreditCards\n",
        "\n",
        "scale = StandardScaler()\n",
        "X = scale.fit_transform(X)\n",
        "\n",
        "X = normalize(X)\n",
        "\n",
        "# we reduce dimension to 2 with PCA to make things easier later\n",
        "pca = PCA(2)\n",
        "X = pca.fit_transform(X)\n",
        "\n",
        "X.shape"
      ],
      "metadata": {
        "colab": {
          "base_uri": "https://localhost:8080/"
        },
        "id": "Y1KefBFN9Ehe",
        "outputId": "ea234193-57db-4323-bafb-4179f4ed7f6d"
      },
      "execution_count": 12,
      "outputs": [
        {
          "output_type": "execute_result",
          "data": {
            "text/plain": [
              "(8949, 2)"
            ]
          },
          "metadata": {},
          "execution_count": 12
        }
      ]
    },
    {
      "cell_type": "code",
      "source": [
        "# K means for clustering\n",
        "# this will take quite some time\n",
        "\n",
        "n_clusters=15\n",
        "cost=[]\n",
        "for i in range(1,n_clusters):\n",
        "    kmean = KMeans(i).fit(X)\n",
        "    cost.append(kmean.inertia_)  \n",
        "  \n",
        "plt.plot(cost, 'bx-')"
      ],
      "metadata": {
        "colab": {
          "base_uri": "https://localhost:8080/",
          "height": 282
        },
        "id": "8ThZcdF37Pc5",
        "outputId": "856a8fd7-a8f6-4add-f906-2756b8231fe1"
      },
      "execution_count": 13,
      "outputs": [
        {
          "output_type": "execute_result",
          "data": {
            "text/plain": [
              "[<matplotlib.lines.Line2D at 0x7f63234164d0>]"
            ]
          },
          "metadata": {},
          "execution_count": 13
        },
        {
          "output_type": "display_data",
          "data": {
            "text/plain": [
              "<Figure size 432x288 with 1 Axes>"
            ],
            "image/png": "[encoded data removed]"
          },
          "metadata": {
            "needs_background": "light"
          }
        }
      ]
    },
    {
      "cell_type": "markdown",
      "source": [
        "# 3 Cluster sepertinya paling optimal\n",
        "## Bisa di cek menggunakan silhouette_score"
      ],
      "metadata": {
        "id": "RUrUmkuOucWg"
      }
    },
    {
      "cell_type": "code",
      "source": [
        "s_scores = []\n",
        "\n",
        "for i in range(2,13):\n",
        "  s_scores.append(\n",
        "      silhouette_score(X, KMeans(n_clusters = i).fit_predict(X))\n",
        "  )\n",
        "\n",
        "label = [i for i in range(2,13)]\n",
        "plt.bar(label, s_scores)\n",
        "plt.xlabel('le cluster')\n",
        "plt.ylabel('le score')\n",
        "plt.show()"
      ],
      "metadata": {
        "colab": {
          "base_uri": "https://localhost:8080/",
          "height": 279
        },
        "id": "CQrcO6LhvEWE",
        "outputId": "a977f989-cb29-4abd-9454-cbd9eadc137d"
      },
      "execution_count": 14,
      "outputs": [
        {
          "output_type": "display_data",
          "data": {
            "text/plain": [
              "<Figure size 432x288 with 1 Axes>"
            ],
            "image/png": "[encoded data removed]"
          },
          "metadata": {
            "needs_background": "light"
          }
        }
      ]
    },
    {
      "cell_type": "markdown",
      "source": [
        "# We go with 3\n"
      ],
      "metadata": {
        "id": "F1C_6xGGxGos"
      }
    },
    {
      "cell_type": "code",
      "source": [
        "kmean = KMeans(3).fit(X)\n",
        "labels = kmean.labels_"
      ],
      "metadata": {
        "id": "KoZxfXb4-Zir"
      },
      "execution_count": 15,
      "outputs": []
    },
    {
      "cell_type": "code",
      "source": [
        "# Add labels to original dataset\n",
        "clusters=pd.concat([CreditCards, pd.DataFrame({'cluster':labels})], axis=1)\n",
        "clusters.head().T"
      ],
      "metadata": {
        "colab": {
          "base_uri": "https://localhost:8080/",
          "height": 614
        },
        "id": "wWABLyss-hP-",
        "outputId": "304881d7-c028-415e-b8ee-1cd61e599b99"
      },
      "execution_count": 16,
      "outputs": [
        {
          "output_type": "execute_result",
          "data": {
            "text/plain": [
              "                                            0            1            2  \\\n",
              "BALANCE                             40.900749  3202.467416  2495.148862   \n",
              "BALANCE_FREQUENCY                    0.818182     0.909091     1.000000   \n",
              "PURCHASES                           95.400000     0.000000   773.170000   \n",
              "ONEOFF_PURCHASES                     0.000000     0.000000   773.170000   \n",
              "INSTALLMENTS_PURCHASES              95.400000     0.000000     0.000000   \n",
              "CASH_ADVANCE                         0.000000  6442.945483     0.000000   \n",
              "PURCHASES_FREQUENCY                  0.166667     0.000000     1.000000   \n",
              "ONEOFF_PURCHASES_FREQUENCY           0.000000     0.000000     1.000000   \n",
              "PURCHASES_INSTALLMENTS_FREQUENCY     0.083333     0.000000     0.000000   \n",
              "CASH_ADVANCE_FREQUENCY               0.000000     0.250000     0.000000   \n",
              "CASH_ADVANCE_TRX                     0.000000     4.000000     0.000000   \n",
              "PURCHASES_TRX                        2.000000     0.000000    12.000000   \n",
              "CREDIT_LIMIT                      1000.000000  7000.000000  7500.000000   \n",
              "PAYMENTS                           201.802084  4103.032597   622.066742   \n",
              "MINIMUM_PAYMENTS                   139.509787  1072.340217   627.284787   \n",
              "PRC_FULL_PAYMENT                     0.000000     0.222222     0.000000   \n",
              "TENURE                              12.000000    12.000000    12.000000   \n",
              "cluster                              0.000000     2.000000     1.000000   \n",
              "\n",
              "                                            3            4  \n",
              "BALANCE                           1666.670542   817.714335  \n",
              "BALANCE_FREQUENCY                    0.636364     1.000000  \n",
              "PURCHASES                         1499.000000    16.000000  \n",
              "ONEOFF_PURCHASES                  1499.000000    16.000000  \n",
              "INSTALLMENTS_PURCHASES               0.000000     0.000000  \n",
              "CASH_ADVANCE                       205.788017     0.000000  \n",
              "PURCHASES_FREQUENCY                  0.083333     0.083333  \n",
              "ONEOFF_PURCHASES_FREQUENCY           0.083333     0.083333  \n",
              "PURCHASES_INSTALLMENTS_FREQUENCY     0.000000     0.000000  \n",
              "CASH_ADVANCE_FREQUENCY               0.083333     0.000000  \n",
              "CASH_ADVANCE_TRX                     1.000000     0.000000  \n",
              "PURCHASES_TRX                        1.000000     1.000000  \n",
              "CREDIT_LIMIT                      7500.000000  1200.000000  \n",
              "PAYMENTS                             0.000000   678.334763  \n",
              "MINIMUM_PAYMENTS                   312.452292   244.791237  \n",
              "PRC_FULL_PAYMENT                     0.000000     0.000000  \n",
              "TENURE                              12.000000    12.000000  \n",
              "cluster                              0.000000     0.000000  "
            ],
            "text/html": [
              "\n",
              "  <div id=\"df-b8541dba-52a9-4fc3-866f-bea33d9463df\">\n",
              "    <div class=\"colab-df-container\">\n",
              "      <div>\n",
              "<style scoped>\n",
              "    .dataframe tbody tr th:only-of-type {\n",
              "        vertical-align: middle;\n",
              "    }\n",
              "\n",
              "    .dataframe tbody tr th {\n",
              "        vertical-align: top;\n",
              "    }\n",
              "\n",
              "    .dataframe thead th {\n",
              "        text-align: right;\n",
              "    }\n",
              "</style>\n",
              "<table border=\"1\" class=\"dataframe\">\n",
              "  <thead>\n",
              "    <tr style=\"text-align: right;\">\n",
              "      <th></th>\n",
              "      <th>0</th>\n",
              "      <th>1</th>\n",
              "      <th>2</th>\n",
              "      <th>3</th>\n",
              "      <th>4</th>\n",
              "    </tr>\n",
              "  </thead>\n",
              "  <tbody>\n",
              "    <tr>\n",
              "      <th>BALANCE</th>\n",
              "      <td>40.900749</td>\n",
              "      <td>3202.467416</td>\n",
              "      <td>2495.148862</td>\n",
              "      <td>1666.670542</td>\n",
              "      <td>817.714335</td>\n",
              "    </tr>\n",
              "    <tr>\n",
              "      <th>BALANCE_FREQUENCY</th>\n",
              "      <td>0.818182</td>\n",
              "      <td>0.909091</td>\n",
              "      <td>1.000000</td>\n",
              "      <td>0.636364</td>\n",
              "      <td>1.000000</td>\n",
              "    </tr>\n",
              "    <tr>\n",
              "      <th>PURCHASES</th>\n",
              "      <td>95.400000</td>\n",
              "      <td>0.000000</td>\n",
              "      <td>773.170000</td>\n",
              "      <td>1499.000000</td>\n",
              "      <td>16.000000</td>\n",
              "    </tr>\n",
              "    <tr>\n",
              "      <th>ONEOFF_PURCHASES</th>\n",
              "      <td>0.000000</td>\n",
              "      <td>0.000000</td>\n",
              "      <td>773.170000</td>\n",
              "      <td>1499.000000</td>\n",
              "      <td>16.000000</td>\n",
              "    </tr>\n",
              "    <tr>\n",
              "      <th>INSTALLMENTS_PURCHASES</th>\n",
              "      <td>95.400000</td>\n",
              "      <td>0.000000</td>\n",
              "      <td>0.000000</td>\n",
              "      <td>0.000000</td>\n",
              "      <td>0.000000</td>\n",
              "    </tr>\n",
              "    <tr>\n",
              "      <th>CASH_ADVANCE</th>\n",
              "      <td>0.000000</td>\n",
              "      <td>6442.945483</td>\n",
              "      <td>0.000000</td>\n",
              "      <td>205.788017</td>\n",
              "      <td>0.000000</td>\n",
              "    </tr>\n",
              "    <tr>\n",
              "      <th>PURCHASES_FREQUENCY</th>\n",
              "      <td>0.166667</td>\n",
              "      <td>0.000000</td>\n",
              "      <td>1.000000</td>\n",
              "      <td>0.083333</td>\n",
              "      <td>0.083333</td>\n",
              "    </tr>\n",
              "    <tr>\n",
              "      <th>ONEOFF_PURCHASES_FREQUENCY</th>\n",
              "      <td>0.000000</td>\n",
              "      <td>0.000000</td>\n",
              "      <td>1.000000</td>\n",
              "      <td>0.083333</td>\n",
              "      <td>0.083333</td>\n",
              "    </tr>\n",
              "    <tr>\n",
              "      <th>PURCHASES_INSTALLMENTS_FREQUENCY</th>\n",
              "      <td>0.083333</td>\n",
              "      <td>0.000000</td>\n",
              "      <td>0.000000</td>\n",
              "      <td>0.000000</td>\n",
              "      <td>0.000000</td>\n",
              "    </tr>\n",
              "    <tr>\n",
              "      <th>CASH_ADVANCE_FREQUENCY</th>\n",
              "      <td>0.000000</td>\n",
              "      <td>0.250000</td>\n",
              "      <td>0.000000</td>\n",
              "      <td>0.083333</td>\n",
              "      <td>0.000000</td>\n",
              "    </tr>\n",
              "    <tr>\n",
              "      <th>CASH_ADVANCE_TRX</th>\n",
              "      <td>0.000000</td>\n",
              "      <td>4.000000</td>\n",
              "      <td>0.000000</td>\n",
              "      <td>1.000000</td>\n",
              "      <td>0.000000</td>\n",
              "    </tr>\n",
              "    <tr>\n",
              "      <th>PURCHASES_TRX</th>\n",
              "      <td>2.000000</td>\n",
              "      <td>0.000000</td>\n",
              "      <td>12.000000</td>\n",
              "      <td>1.000000</td>\n",
              "      <td>1.000000</td>\n",
              "    </tr>\n",
              "    <tr>\n",
              "      <th>CREDIT_LIMIT</th>\n",
              "      <td>1000.000000</td>\n",
              "      <td>7000.000000</td>\n",
              "      <td>7500.000000</td>\n",
              "      <td>7500.000000</td>\n",
              "      <td>1200.000000</td>\n",
              "    </tr>\n",
              "    <tr>\n",
              "      <th>PAYMENTS</th>\n",
              "      <td>201.802084</td>\n",
              "      <td>4103.032597</td>\n",
              "      <td>622.066742</td>\n",
              "      <td>0.000000</td>\n",
              "      <td>678.334763</td>\n",
              "    </tr>\n",
              "    <tr>\n",
              "      <th>MINIMUM_PAYMENTS</th>\n",
              "      <td>139.509787</td>\n",
              "      <td>1072.340217</td>\n",
              "      <td>627.284787</td>\n",
              "      <td>312.452292</td>\n",
              "      <td>244.791237</td>\n",
              "    </tr>\n",
              "    <tr>\n",
              "      <th>PRC_FULL_PAYMENT</th>\n",
              "      <td>0.000000</td>\n",
              "      <td>0.222222</td>\n",
              "      <td>0.000000</td>\n",
              "      <td>0.000000</td>\n",
              "      <td>0.000000</td>\n",
              "    </tr>\n",
              "    <tr>\n",
              "      <th>TENURE</th>\n",
              "      <td>12.000000</td>\n",
              "      <td>12.000000</td>\n",
              "      <td>12.000000</td>\n",
              "      <td>12.000000</td>\n",
              "      <td>12.000000</td>\n",
              "    </tr>\n",
              "    <tr>\n",
              "      <th>cluster</th>\n",
              "      <td>0.000000</td>\n",
              "      <td>2.000000</td>\n",
              "      <td>1.000000</td>\n",
              "      <td>0.000000</td>\n",
              "      <td>0.000000</td>\n",
              "    </tr>\n",
              "  </tbody>\n",
              "</table>\n",
              "</div>\n",
              "      <button class=\"colab-df-convert\" onclick=\"convertToInteractive('df-b8541dba-52a9-4fc3-866f-bea33d9463df')\"\n",
              "              title=\"Convert this dataframe to an interactive table.\"\n",
              "              style=\"display:none;\">\n",
              "        \n",
              "  <svg xmlns=\"http://www.w3.org/2000/svg\" height=\"24px\"viewBox=\"0 0 24 24\"\n",
              "       width=\"24px\">\n",
              "    <path d=\"M0 0h24v24H0V0z\" fill=\"none\"/>\n",
              "    <path d=\"M18.56 5.44l.94 2.06.94-2.06 2.06-.94-2.06-.94-.94-2.06-.94 2.06-2.06.94zm-11 1L8.5 8.5l.94-2.06 2.06-.94-2.06-.94L8.5 2.5l-.94 2.06-2.06.94zm10 10l.94 2.06.94-2.06 2.06-.94-2.06-.94-.94-2.06-.94 2.06-2.06.94z\"/><path d=\"M17.41 7.96l-1.37-1.37c-.4-.4-.92-.59-1.43-.59-.52 0-1.04.2-1.43.59L10.3 9.45l-7.72 7.72c-.78.78-.78 2.05 0 2.83L4 21.41c.39.39.9.59 1.41.59.51 0 1.02-.2 1.41-.59l7.78-7.78 2.81-2.81c.8-.78.8-2.07 0-2.86zM5.41 20L4 18.59l7.72-7.72 1.47 1.35L5.41 20z\"/>\n",
              "  </svg>\n",
              "      </button>\n",
              "      \n",
              "  <style>\n",
              "    .colab-df-container {\n",
              "      display:flex;\n",
              "      flex-wrap:wrap;\n",
              "      gap: 12px;\n",
              "    }\n",
              "\n",
              "    .colab-df-convert {\n",
              "      background-color: #E8F0FE;\n",
              "      border: none;\n",
              "      border-radius: 50%;\n",
              "      cursor: pointer;\n",
              "      display: none;\n",
              "      fill: #1967D2;\n",
              "      height: 32px;\n",
              "      padding: 0 0 0 0;\n",
              "      width: 32px;\n",
              "    }\n",
              "\n",
              "    .colab-df-convert:hover {\n",
              "      background-color: #E2EBFA;\n",
              "      box-shadow: 0px 1px 2px rgba(60, 64, 67, 0.3), 0px 1px 3px 1px rgba(60, 64, 67, 0.15);\n",
              "      fill: #174EA6;\n",
              "    }\n",
              "\n",
              "    [theme=dark] .colab-df-convert {\n",
              "      background-color: #3B4455;\n",
              "      fill: #D2E3FC;\n",
              "    }\n",
              "\n",
              "    [theme=dark] .colab-df-convert:hover {\n",
              "      background-color: #434B5C;\n",
              "      box-shadow: 0px 1px 3px 1px rgba(0, 0, 0, 0.15);\n",
              "      filter: drop-shadow(0px 1px 2px rgba(0, 0, 0, 0.3));\n",
              "      fill: #FFFFFF;\n",
              "    }\n",
              "  </style>\n",
              "\n",
              "      <script>\n",
              "        const buttonEl =\n",
              "          document.querySelector('#df-b8541dba-52a9-4fc3-866f-bea33d9463df button.colab-df-convert');\n",
              "        buttonEl.style.display =\n",
              "          google.colab.kernel.accessAllowed ? 'block' : 'none';\n",
              "\n",
              "        async function convertToInteractive(key) {\n",
              "          const element = document.querySelector('#df-b8541dba-52a9-4fc3-866f-bea33d9463df');\n",
              "          const dataTable =\n",
              "            await google.colab.kernel.invokeFunction('convertToInteractive',\n",
              "                                                     [key], {});\n",
              "          if (!dataTable) return;\n",
              "\n",
              "          const docLinkHtml = 'Like what you see? Visit the ' +\n",
              "            '<a target=\"_blank\" href=https://colab.research.google.com/notebooks/data_table.ipynb>data table notebook</a>'\n",
              "            + ' to learn more about interactive tables.';\n",
              "          element.innerHTML = '';\n",
              "          dataTable['output_type'] = 'display_data';\n",
              "          await google.colab.output.renderOutput(dataTable, element);\n",
              "          const docLink = document.createElement('div');\n",
              "          docLink.innerHTML = docLinkHtml;\n",
              "          element.appendChild(docLink);\n",
              "        }\n",
              "      </script>\n",
              "    </div>\n",
              "  </div>\n",
              "  "
            ]
          },
          "metadata": {},
          "execution_count": 16
        }
      ]
    },
    {
      "cell_type": "code",
      "source": [
        "# See what each label means\n",
        "for c in clusters:\n",
        "    grid = sns.FacetGrid(clusters, col='cluster')\n",
        "    grid.map(plt.hist, c)"
      ],
      "metadata": {
        "colab": {
          "base_uri": "https://localhost:8080/",
          "height": 1000
        },
        "id": "1JoimVQX-iQq",
        "outputId": "50229806-6cf2-4257-8477-8d01450909d3"
      },
      "execution_count": 17,
      "outputs": [
        {
          "output_type": "display_data",
          "data": {
            "text/plain": [
              "<Figure size 648x216 with 3 Axes>"
            ],
            "image/png": "[encoded data removed]"
          },
          "metadata": {
            "needs_background": "light"
          }
        },
        {
          "output_type": "display_data",
          "data": {
            "text/plain": [
              "<Figure size 648x216 with 3 Axes>"
            ],
            "image/png": "[encoded data removed]"
          },
          "metadata": {
            "needs_background": "light"
          }
        },
        {
          "output_type": "display_data",
          "data": {
            "text/plain": [
              "<Figure size 648x216 with 3 Axes>"
            ],
            "image/png": "[encoded data removed]"
          },
          "metadata": {
            "needs_background": "light"
          }
        },
        {
          "output_type": "display_data",
          "data": {
            "text/plain": [
              "<Figure size 648x216 with 3 Axes>"
            ],
            "image/png": "[encoded data removed]"
          },
          "metadata": {
            "needs_background": "light"
          }
        },
        {
          "output_type": "display_data",
          "data": {
            "text/plain": [
              "<Figure size 648x216 with 3 Axes>"
            ],
            "image/png": "[encoded data removed]"
          },
          "metadata": {
            "needs_background": "light"
          }
        },
        {
          "output_type": "display_data",
          "data": {
            "text/plain": [
              "<Figure size 648x216 with 3 Axes>"
            ],
            "image/png": "[encoded data removed]"
          },
          "metadata": {
            "needs_background": "light"
          }
        },
        {
          "output_type": "display_data",
          "data": {
            "text/plain": [
              "<Figure size 648x216 with 3 Axes>"
            ],
            "image/png": "[encoded data removed]"
          },
          "metadata": {
            "needs_background": "light"
          }
        },
        {
          "output_type": "display_data",
          "data": {
            "text/plain": [
              "<Figure size 648x216 with 3 Axes>"
            ],
            "image/png": "[encoded data removed]"
          },
          "metadata": {
            "needs_background": "light"
          }
        },
        {
          "output_type": "display_data",
          "data": {
            "text/plain": [
              "<Figure size 648x216 with 3 Axes>"
            ],
            "image/png": "[encoded data removed]"
          },
          "metadata": {
            "needs_background": "light"
          }
        },
        {
          "output_type": "display_data",
          "data": {
            "text/plain": [
              "<Figure size 648x216 with 3 Axes>"
            ],
            "image/png": "[encoded data removed]"
          },
          "metadata": {
            "needs_background": "light"
          }
        },
        {
          "output_type": "display_data",
          "data": {
            "text/plain": [
              "<Figure size 648x216 with 3 Axes>"
            ],
            "image/png": "[encoded data removed]"
          },
          "metadata": {
            "needs_background": "light"
          }
        },
        {
          "output_type": "display_data",
          "data": {
            "text/plain": [
              "<Figure size 648x216 with 3 Axes>"
            ],
            "image/png": "[encoded data removed]"
          },
          "metadata": {
            "needs_background": "light"
          }
        },
        {
          "output_type": "display_data",
          "data": {
            "text/plain": [
              "<Figure size 648x216 with 3 Axes>"
            ],
            "image/png": "[encoded data removed]"
          },
          "metadata": {
            "needs_background": "light"
          }
        },
        {
          "output_type": "display_data",
          "data": {
            "text/plain": [
              "<Figure size 648x216 with 3 Axes>"
            ],
            "image/png": "[encoded data removed]"
          },
          "metadata": {
            "needs_background": "light"
          }
        },
        {
          "output_type": "display_data",
          "data": {
            "text/plain": [
              "<Figure size 648x216 with 3 Axes>"
            ],
            "image/png": "[encoded data removed]"
          },
          "metadata": {
            "needs_background": "light"
          }
        },
        {
          "output_type": "display_data",
          "data": {
            "text/plain": [
              "<Figure size 648x216 with 3 Axes>"
            ],
            "image/png": "[encoded data removed]"
          },
          "metadata": {
            "needs_background": "light"
          }
        },
        {
          "output_type": "display_data",
          "data": {
            "text/plain": [
              "<Figure size 648x216 with 3 Axes>"
            ],
            "image/png": "[encoded data removed]"
          },
          "metadata": {
            "needs_background": "light"
          }
        },
        {
          "output_type": "display_data",
          "data": {
            "text/plain": [
              "<Figure size 648x216 with 3 Axes>"
            ],
            "image/png": "[encoded data removed]"
          },
          "metadata": {
            "needs_background": "light"
          }
        }
      ]
    },
    {
      "cell_type": "markdown",
      "source": [
        "# Cluster ke 2 memiliki jumlah paling sedikit, bisa diasumsikan bahwa cluster 2 adalah outlier"
      ],
      "metadata": {
        "id": "2tawYbiuc0yL"
      }
    },
    {
      "cell_type": "code",
      "source": [
        "#Visualization\n",
        "\n",
        "pca_result = pd.DataFrame(X)\n",
        "pca_result.columns = ['D1', 'D2'] # add header, first pca dimension, and 2nd dimension\n",
        "\n",
        "pca_result['Labels'] = labels # add cluster label as columns\n",
        "\n",
        "grouped = pca_result.groupby(\"Labels\") # group the labels\n",
        "\n",
        "fig, ax = plt.subplots()\n",
        "\n",
        "colors = { 0: 'red',\n",
        "           1: 'blue',\n",
        "           2: 'green'\n",
        "        }\n",
        "\n",
        "legend = { 0: \"First cluster\",\n",
        "           1: \"Second cluster\",\n",
        "           2: \"Third cluster\"\n",
        "        }\n",
        "\n",
        "for cluster, value in grouped:\n",
        "    ax.scatter(value.D1, value.D2, \n",
        "               c = colors[cluster], \n",
        "               label = legend[cluster])\n",
        "\n",
        "ax.legend()\n",
        "\n",
        "plt.show() "
      ],
      "metadata": {
        "colab": {
          "base_uri": "https://localhost:8080/",
          "height": 265
        },
        "id": "RM98Tc_xxp31",
        "outputId": "6d557f0e-782f-4058-a690-31b792f97496"
      },
      "execution_count": 18,
      "outputs": [
        {
          "output_type": "display_data",
          "data": {
            "text/plain": [
              "<Figure size 432x288 with 1 Axes>"
            ],
            "image/png": "[encoded data removed]"
          },
          "metadata": {
            "needs_background": "light"
          }
        }
      ]
    },
    {
      "cell_type": "markdown",
      "source": [
        "# Untuk Metric, bisa gunakan silhouette_score"
      ],
      "metadata": {
        "id": "TmbsbylQutei"
      }
    },
    {
      "cell_type": "code",
      "source": [
        "print(silhouette_score(X, labels))"
      ],
      "metadata": {
        "colab": {
          "base_uri": "https://localhost:8080/"
        },
        "id": "ESVhiPZWuxSL",
        "outputId": "7c155797-8c95-4ac5-e9d1-c4b3e0889cd7"
      },
      "execution_count": 19,
      "outputs": [
        {
          "output_type": "stream",
          "name": "stdout",
          "text": [
            "0.4579526341373324\n"
          ]
        }
      ]
    }
  ]
}